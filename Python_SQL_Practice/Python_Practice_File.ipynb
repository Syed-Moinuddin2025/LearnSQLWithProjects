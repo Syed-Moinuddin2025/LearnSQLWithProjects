{
 "cells": [
  {
   "cell_type": "code",
   "execution_count": 8,
   "id": "370d6dc4",
   "metadata": {},
   "outputs": [
    {
     "name": "stdout",
     "output_type": "stream",
     "text": [
      "The sql extension is already loaded. To reload it, use:\n",
      "  %reload_ext sql\n"
     ]
    }
   ],
   "source": [
    "%load_ext sql"
   ]
  },
  {
   "cell_type": "code",
   "execution_count": 9,
   "id": "9fbb5fde",
   "metadata": {},
   "outputs": [],
   "source": [
    "%sql mssql+pyodbc://@localhost/PythonPracticeDB?driver=ODBC+Driver+17+for+SQL+Server"
   ]
  },
  {
   "cell_type": "code",
   "execution_count": null,
   "id": "857e4772",
   "metadata": {},
   "outputs": [
    {
     "name": "stdout",
     "output_type": "stream",
     "text": [
      " * mssql+pyodbc://@localhost/PythonPracticeDB?driver=ODBC+Driver+17+for+SQL+Server\n",
      "Done.\n"
     ]
    },
    {
     "data": {
      "text/html": [
       "<table>\n",
       "    <thead>\n",
       "        <tr>\n",
       "            <th>EmpID</th>\n",
       "            <th>FirstName</th>\n",
       "            <th>LastName</th>\n",
       "            <th>DeptID</th>\n",
       "            <th>DesigID</th>\n",
       "            <th>JoinDate</th>\n",
       "        </tr>\n",
       "    </thead>\n",
       "    <tbody>\n",
       "        <tr>\n",
       "            <td>201</td>\n",
       "            <td>Ahmed</td>\n",
       "            <td>Khan</td>\n",
       "            <td>1</td>\n",
       "            <td>1</td>\n",
       "            <td>2020-01-10</td>\n",
       "        </tr>\n",
       "        <tr>\n",
       "            <td>202</td>\n",
       "            <td>Zara</td>\n",
       "            <td>Sheikh</td>\n",
       "            <td>2</td>\n",
       "            <td>2</td>\n",
       "            <td>2021-05-15</td>\n",
       "        </tr>\n",
       "        <tr>\n",
       "            <td>203</td>\n",
       "            <td>Imran</td>\n",
       "            <td>Ali</td>\n",
       "            <td>3</td>\n",
       "            <td>3</td>\n",
       "            <td>2019-11-01</td>\n",
       "        </tr>\n",
       "        <tr>\n",
       "            <td>204</td>\n",
       "            <td>Sana</td>\n",
       "            <td>Malik</td>\n",
       "            <td>4</td>\n",
       "            <td>4</td>\n",
       "            <td>2018-06-20</td>\n",
       "        </tr>\n",
       "        <tr>\n",
       "            <td>205</td>\n",
       "            <td>Ayesha</td>\n",
       "            <td>Qureshi</td>\n",
       "            <td>1</td>\n",
       "            <td>1</td>\n",
       "            <td>2022-02-01</td>\n",
       "        </tr>\n",
       "        <tr>\n",
       "            <td>207</td>\n",
       "            <td>Tariq</td>\n",
       "            <td>Zaman</td>\n",
       "            <td>3</td>\n",
       "            <td>3</td>\n",
       "            <td>2020-07-25</td>\n",
       "        </tr>\n",
       "        <tr>\n",
       "            <td>208</td>\n",
       "            <td>Tania</td>\n",
       "            <td>Agarwal</td>\n",
       "            <td>2</td>\n",
       "            <td>2</td>\n",
       "            <td>2022-03-01</td>\n",
       "        </tr>\n",
       "    </tbody>\n",
       "</table>"
      ],
      "text/plain": [
       "[(201, 'Ahmed', 'Khan', 1, 1, datetime.date(2020, 1, 10)),\n",
       " (202, 'Zara', 'Sheikh', 2, 2, datetime.date(2021, 5, 15)),\n",
       " (203, 'Imran', 'Ali', 3, 3, datetime.date(2019, 11, 1)),\n",
       " (204, 'Sana', 'Malik', 4, 4, datetime.date(2018, 6, 20)),\n",
       " (205, 'Ayesha', 'Qureshi', 1, 1, datetime.date(2022, 2, 1)),\n",
       " (207, 'Tariq', 'Zaman', 3, 3, datetime.date(2020, 7, 25)),\n",
       " (208, 'Tania', 'Agarwal', 2, 2, datetime.date(2022, 3, 1))]"
      ]
     },
     "execution_count": 12,
     "metadata": {},
     "output_type": "execute_result"
    }
   ],
   "source": [
    "# SQL Practice Script: Basics\n",
    "# ✅ Use this in VS Code with MS SQL extension\n",
    "\n",
    "# 1. View all Employees\n",
    "%sql %sql SELECT * FROM Employees\n"
   ]
  },
  {
   "cell_type": "code",
   "execution_count": null,
   "id": "80f15b4e",
   "metadata": {},
   "outputs": [],
   "source": [
    "\n",
    "# 2. View all Departments\n",
    "%sql SELECT * FROM Departments\n",
    " \n",
    " # 3. View all Designations\n",
    " %sql SELECT * FROM Designations\n",
    "\n",
    " # 4. View all Salaries\n",
    " %sql SELECT * FROM Salaries\n",
    "\n",
    " # 5. Insert a new Employee\n",
    " INSERT INTO Employees (EmpID,FirstName,LastName ,DeptID , DesigID , JoinDate)\n",
    " VALUES (208 , 'Tania' , 'Agarwal' , 2,2, '2022-03-1');\n",
    "\n",
    " #6: Insert Salary for new Employee (208)\n",
    "INSERT INTO Salaries (EmpID ,BasicSalary, Allowance,Deductions )\n",
    " VALUES(208, 48000,3000,1500);\n",
    "\n",
    " # 7. Update an Employee's Designation\n",
    "UPDATE Employees\n",
    " SET DesigID = 4\n",
    "WHERE EmpID = 206;\n",
    "\n",
    " # 7. Delete an Employee\n",
    "\n",
    "DELETE FROM Salaries\n",
    "WHERE EmpID = 206\n",
    "\n",
    "DELETE from Employees\n",
    "WHERE EmpID = 206;\n",
    "\n",
    "# 8. Add a new column to Salaries table\n",
    "ALTER TABLE Salaries\n",
    "ADD Bonus DECIMAL(10,2)\n",
    "\n",
    "# 9. Update Bonus for an employee\n",
    "UPDATE Salaries\n",
    "SET Bonus = 2500\n",
    "WHERE EmpID =205;\n",
    "\n",
    "# 10. Drop the Bonus column \n",
    "ALTER TABLE salaries\n",
    "DROP COLUMN Bonus;\n",
    "\n",
    "# ✅ INTERMEDIATE LEVEL QUERIES (JOIN, GROUP BY, CASE)\n",
    "%sql SELECT E.EmpID, FirstName, LastName, BasicSalary, Allowance\n",
    "FROM Employees E\n",
    "JOIN Salaries S ON E.EmpID = S.EmpID;\n",
    "\n",
    "# 12. Join Employees with Departments\n",
    "%sql SELECT E.FirstName , E.LastName , D.DeptName\n",
    "FROM Employees E\n",
    "JOIN Departments D ON E.DeptID = D.DeptID\n",
    "\n",
    "# 13. Total Salary (Basic + Allowance) for each employee\n",
    "%sql SELECT EmpID , (BasicSalary + Allowance) AS  TotalSalary\n",
    "From salaries\n"
   ]
  },
  {
   "cell_type": "code",
   "execution_count": null,
   "id": "228da849",
   "metadata": {},
   "outputs": [
    {
     "ename": "IndentationError",
     "evalue": "unexpected indent (4020310855.py, line 3)",
     "output_type": "error",
     "traceback": [
      "  \u001b[36mCell\u001b[39m\u001b[36m \u001b[39m\u001b[32mIn[14]\u001b[39m\u001b[32m, line 3\u001b[39m\n\u001b[31m    \u001b[39m\u001b[31mCASE\u001b[39m\n    ^\n\u001b[31mIndentationError\u001b[39m\u001b[31m:\u001b[39m unexpected indent\n"
     ]
    }
   ],
   "source": [
    "\n",
    "# 14. Use CASE to show tax status\n",
    "%sql SELECT EmpID, BasicSalary,\n",
    "  CASE \n",
    "    WHEN BasicSalary > 5000 THEN 'Taxable'\n",
    "    ELSE 'Non-Taxable'\n",
    "  END AS TaxStatus\n",
    "FROM Salaries;\n"
   ]
  },
  {
   "cell_type": "code",
   "execution_count": 19,
   "id": "47a49488",
   "metadata": {},
   "outputs": [
    {
     "name": "stdout",
     "output_type": "stream",
     "text": [
      " * mssql+pyodbc://@localhost/PythonPracticeDB?driver=ODBC+Driver+17+for+SQL+Server\n",
      "Done.\n"
     ]
    },
    {
     "data": {
      "text/html": [
       "<table>\n",
       "    <thead>\n",
       "        <tr>\n",
       "            <th>DeptID</th>\n",
       "            <th>TotalEmployees</th>\n",
       "        </tr>\n",
       "    </thead>\n",
       "    <tbody>\n",
       "        <tr>\n",
       "            <td>1</td>\n",
       "            <td>2</td>\n",
       "        </tr>\n",
       "        <tr>\n",
       "            <td>2</td>\n",
       "            <td>2</td>\n",
       "        </tr>\n",
       "        <tr>\n",
       "            <td>3</td>\n",
       "            <td>2</td>\n",
       "        </tr>\n",
       "        <tr>\n",
       "            <td>4</td>\n",
       "            <td>1</td>\n",
       "        </tr>\n",
       "    </tbody>\n",
       "</table>"
      ],
      "text/plain": [
       "[(1, 2), (2, 2), (3, 2), (4, 1)]"
      ]
     },
     "execution_count": 19,
     "metadata": {},
     "output_type": "execute_result"
    }
   ],
   "source": [
    "\n",
    "# 15. Count employees in each department\n",
    "%sql SELECT DeptID, COUNT(*) AS TotalEmployees FROM Employees GROUP BY DeptID;\n"
   ]
  },
  {
   "cell_type": "code",
   "execution_count": null,
   "id": "59eb5eea",
   "metadata": {},
   "outputs": [],
   "source": [
    "\n",
    "# 16. Average salary per department\n",
    "%sql SELECT E.DeptID, AVG(S.BasicSalary) AS AvgSalary\n",
    "FROM Employees E\n",
    "JOIN Salaries S ON E.EmpID = S.EmpID\n",
    "GROUP BY E.DeptID;\n",
    "\n",
    "# 17. Employees who joined after 2022\n",
    "%sql SELECT * FROM Employees\n",
    "WHERE JoinDate > '2022-01-01';\n",
    "\n",
    "# 18. Get top 3 highest salaries\n",
    "%sql SELECT TOP 3 EmpID, BasicSalary\n",
    "FROM Salaries\n",
    "ORDER BY BasicSalary DESC;\n",
    "\n",
    "# 19. Employees without salary records\n",
    "%sql SELECT *\n",
    "FROM Employees\n",
    "WHERE EmpID NOT IN (%sql SELECT EmpID FROM Salaries);\n",
    "\n",
    "# 20. Show full name and total salary\n",
    "%sql SELECT FirstName + ' ' + LastName AS FullName,\n",
    "       (BasicSalary + Allowance - ISNULL(Deductions, 0)) AS NetSalary\n",
    "FROM Employees E\n",
    "JOIN Salaries S ON E.EmpID = S.EmpID;\n",
    "\n",
    "# ✅ You're now practicing %sql SELECT, INSERT, UPDATE, DELETE, ALTER, JOIN, GROUP BY, CASE\n",
    "%sql SELECT EmpID, Bonus FROM Salaries;\n",
    "\n",
    "%sql SELECT COLUMN_NAME \n",
    "FROM INFORMATION_SCHEMA.COLUMNS \n",
    "WHERE TABLE_NAME = 'Salaries';\n",
    "\n",
    "UPDATE Salaries\n",
    "SET Bonus = 2500\n",
    "WHERE EmpID = 201;\n",
    "\n",
    "UPDATE Salaries\n",
    "SET Bonus = 1000\n",
    "WHERE Bonus IS NULL;\n",
    "\n"
   ]
  }
 ],
 "metadata": {
  "kernelspec": {
   "display_name": "Python 3.11 (SQL Ready)",
   "language": "python",
   "name": "myenv"
  },
  "language_info": {
   "codemirror_mode": {
    "name": "ipython",
    "version": 3
   },
   "file_extension": ".py",
   "mimetype": "text/x-python",
   "name": "python",
   "nbconvert_exporter": "python",
   "pygments_lexer": "ipython3",
   "version": "3.11.8"
  }
 },
 "nbformat": 4,
 "nbformat_minor": 5
}
