{
 "cells": [
  {
   "cell_type": "code",
   "execution_count": 7,
   "id": "370d6dc4",
   "metadata": {},
   "outputs": [],
   "source": [
    "%load_ext sql"
   ]
  },
  {
   "cell_type": "code",
   "execution_count": 8,
   "id": "9fbb5fde",
   "metadata": {},
   "outputs": [],
   "source": [
    "%sql mssql+pyodbc://@localhost/PythonPracticeDB?driver=ODBC+Driver+17+for+SQL+Server"
   ]
  },
  {
   "cell_type": "code",
   "execution_count": 10,
   "id": "857e4772",
   "metadata": {},
   "outputs": [
    {
     "name": "stdout",
     "output_type": "stream",
     "text": [
      " * mssql+pyodbc://@localhost/PythonPracticeDB?driver=ODBC+Driver+17+for+SQL+Server\n",
      "Done.\n"
     ]
    },
    {
     "data": {
      "text/html": [
       "<table>\n",
       "    <thead>\n",
       "        <tr>\n",
       "            <th>EmpID</th>\n",
       "            <th>FirstName</th>\n",
       "            <th>LastName</th>\n",
       "            <th>DeptID</th>\n",
       "            <th>DesigID</th>\n",
       "            <th>JoinDate</th>\n",
       "        </tr>\n",
       "    </thead>\n",
       "    <tbody>\n",
       "        <tr>\n",
       "            <td>201</td>\n",
       "            <td>Ahmed</td>\n",
       "            <td>Khan</td>\n",
       "            <td>1</td>\n",
       "            <td>1</td>\n",
       "            <td>2020-01-10</td>\n",
       "        </tr>\n",
       "        <tr>\n",
       "            <td>202</td>\n",
       "            <td>Zara</td>\n",
       "            <td>Sheikh</td>\n",
       "            <td>2</td>\n",
       "            <td>2</td>\n",
       "            <td>2021-05-15</td>\n",
       "        </tr>\n",
       "        <tr>\n",
       "            <td>203</td>\n",
       "            <td>Imran</td>\n",
       "            <td>Ali</td>\n",
       "            <td>3</td>\n",
       "            <td>3</td>\n",
       "            <td>2019-11-01</td>\n",
       "        </tr>\n",
       "        <tr>\n",
       "            <td>204</td>\n",
       "            <td>Sana</td>\n",
       "            <td>Malik</td>\n",
       "            <td>4</td>\n",
       "            <td>4</td>\n",
       "            <td>2018-06-20</td>\n",
       "        </tr>\n",
       "        <tr>\n",
       "            <td>205</td>\n",
       "            <td>Ayesha</td>\n",
       "            <td>Qureshi</td>\n",
       "            <td>1</td>\n",
       "            <td>1</td>\n",
       "            <td>2022-02-01</td>\n",
       "        </tr>\n",
       "        <tr>\n",
       "            <td>207</td>\n",
       "            <td>Tariq</td>\n",
       "            <td>Zaman</td>\n",
       "            <td>3</td>\n",
       "            <td>3</td>\n",
       "            <td>2020-07-25</td>\n",
       "        </tr>\n",
       "        <tr>\n",
       "            <td>208</td>\n",
       "            <td>Tania</td>\n",
       "            <td>Agarwal</td>\n",
       "            <td>2</td>\n",
       "            <td>2</td>\n",
       "            <td>2022-03-01</td>\n",
       "        </tr>\n",
       "    </tbody>\n",
       "</table>"
      ],
      "text/plain": [
       "[(201, 'Ahmed', 'Khan', 1, 1, datetime.date(2020, 1, 10)),\n",
       " (202, 'Zara', 'Sheikh', 2, 2, datetime.date(2021, 5, 15)),\n",
       " (203, 'Imran', 'Ali', 3, 3, datetime.date(2019, 11, 1)),\n",
       " (204, 'Sana', 'Malik', 4, 4, datetime.date(2018, 6, 20)),\n",
       " (205, 'Ayesha', 'Qureshi', 1, 1, datetime.date(2022, 2, 1)),\n",
       " (207, 'Tariq', 'Zaman', 3, 3, datetime.date(2020, 7, 25)),\n",
       " (208, 'Tania', 'Agarwal', 2, 2, datetime.date(2022, 3, 1))]"
      ]
     },
     "execution_count": 10,
     "metadata": {},
     "output_type": "execute_result"
    }
   ],
   "source": [
    "# SQL Practice Script: Basics\n",
    "# ✅ Use this in VS Code with MS SQL extension\n",
    "\n",
    "# 1. View all Employees\n",
    "%sql SELECT * FROM Employees\n"
   ]
  },
  {
   "cell_type": "code",
   "execution_count": 12,
   "id": "c8414a9d-4b0c-4739-a93a-7fdd4196dc1e",
   "metadata": {},
   "outputs": [
    {
     "name": "stdout",
     "output_type": "stream",
     "text": [
      " * mssql+pyodbc://@localhost/PythonPracticeDB?driver=ODBC+Driver+17+for+SQL+Server\n",
      "Done.\n"
     ]
    },
    {
     "data": {
      "text/html": [
       "<table>\n",
       "    <thead>\n",
       "        <tr>\n",
       "            <th>DeptID</th>\n",
       "            <th>DeptName</th>\n",
       "        </tr>\n",
       "    </thead>\n",
       "    <tbody>\n",
       "        <tr>\n",
       "            <td>1</td>\n",
       "            <td>IT</td>\n",
       "        </tr>\n",
       "        <tr>\n",
       "            <td>2</td>\n",
       "            <td>HR</td>\n",
       "        </tr>\n",
       "        <tr>\n",
       "            <td>3</td>\n",
       "            <td>Sales</td>\n",
       "        </tr>\n",
       "        <tr>\n",
       "            <td>4</td>\n",
       "            <td>Finance</td>\n",
       "        </tr>\n",
       "    </tbody>\n",
       "</table>"
      ],
      "text/plain": [
       "[(1, 'IT'), (2, 'HR'), (3, 'Sales'), (4, 'Finance')]"
      ]
     },
     "execution_count": 12,
     "metadata": {},
     "output_type": "execute_result"
    }
   ],
   "source": [
    "# 2. View all Departments\n",
    "%sql SELECT * FROM Departments\n",
    " "
   ]
  },
  {
   "cell_type": "code",
   "execution_count": 13,
   "id": "e22fe46f-47a9-4a87-93f9-69da599afb29",
   "metadata": {},
   "outputs": [
    {
     "name": "stdout",
     "output_type": "stream",
     "text": [
      " * mssql+pyodbc://@localhost/PythonPracticeDB?driver=ODBC+Driver+17+for+SQL+Server\n",
      "Done.\n"
     ]
    },
    {
     "data": {
      "text/html": [
       "<table>\n",
       "    <thead>\n",
       "        <tr>\n",
       "            <th>DesigID</th>\n",
       "            <th>DesigTitle</th>\n",
       "        </tr>\n",
       "    </thead>\n",
       "    <tbody>\n",
       "        <tr>\n",
       "            <td>1</td>\n",
       "            <td>Software Engineer</td>\n",
       "        </tr>\n",
       "        <tr>\n",
       "            <td>2</td>\n",
       "            <td>HR Executive</td>\n",
       "        </tr>\n",
       "        <tr>\n",
       "            <td>3</td>\n",
       "            <td>Sales Associate</td>\n",
       "        </tr>\n",
       "        <tr>\n",
       "            <td>4</td>\n",
       "            <td>Accountant</td>\n",
       "        </tr>\n",
       "    </tbody>\n",
       "</table>"
      ],
      "text/plain": [
       "[(1, 'Software Engineer'),\n",
       " (2, 'HR Executive'),\n",
       " (3, 'Sales Associate'),\n",
       " (4, 'Accountant')]"
      ]
     },
     "execution_count": 13,
     "metadata": {},
     "output_type": "execute_result"
    }
   ],
   "source": [
    " # 3. View all Designations\n",
    " %sql SELECT * FROM Designations"
   ]
  },
  {
   "cell_type": "code",
   "execution_count": 15,
   "id": "280b1dab-ce94-428a-85c5-89f7a1275e63",
   "metadata": {},
   "outputs": [
    {
     "name": "stdout",
     "output_type": "stream",
     "text": [
      " * mssql+pyodbc://@localhost/PythonPracticeDB?driver=ODBC+Driver+17+for+SQL+Server\n",
      "Done.\n"
     ]
    },
    {
     "data": {
      "text/html": [
       "<table>\n",
       "    <thead>\n",
       "        <tr>\n",
       "            <th>EmpID</th>\n",
       "            <th>BasicSalary</th>\n",
       "            <th>Allowance</th>\n",
       "            <th>Deductions</th>\n",
       "            <th>Bonus</th>\n",
       "        </tr>\n",
       "    </thead>\n",
       "    <tbody>\n",
       "        <tr>\n",
       "            <td>201</td>\n",
       "            <td>60000.00</td>\n",
       "            <td>5000.00</td>\n",
       "            <td>2000.00</td>\n",
       "            <td>2500.00</td>\n",
       "        </tr>\n",
       "        <tr>\n",
       "            <td>202</td>\n",
       "            <td>50000.00</td>\n",
       "            <td>4000.00</td>\n",
       "            <td>1500.00</td>\n",
       "            <td>1000.00</td>\n",
       "        </tr>\n",
       "        <tr>\n",
       "            <td>203</td>\n",
       "            <td>45000.00</td>\n",
       "            <td>3000.00</td>\n",
       "            <td>1200.00</td>\n",
       "            <td>1000.00</td>\n",
       "        </tr>\n",
       "        <tr>\n",
       "            <td>204</td>\n",
       "            <td>55000.00</td>\n",
       "            <td>3500.00</td>\n",
       "            <td>1700.00</td>\n",
       "            <td>1000.00</td>\n",
       "        </tr>\n",
       "        <tr>\n",
       "            <td>205</td>\n",
       "            <td>50000.00</td>\n",
       "            <td>4000.00</td>\n",
       "            <td>1500.00</td>\n",
       "            <td>2500.00</td>\n",
       "        </tr>\n",
       "        <tr>\n",
       "            <td>207</td>\n",
       "            <td>52000.00</td>\n",
       "            <td>3500.00</td>\n",
       "            <td>1200.00</td>\n",
       "            <td>1000.00</td>\n",
       "        </tr>\n",
       "        <tr>\n",
       "            <td>208</td>\n",
       "            <td>48000.00</td>\n",
       "            <td>3000.00</td>\n",
       "            <td>1500.00</td>\n",
       "            <td>1000.00</td>\n",
       "        </tr>\n",
       "    </tbody>\n",
       "</table>"
      ],
      "text/plain": [
       "[(201, Decimal('60000.00'), Decimal('5000.00'), Decimal('2000.00'), Decimal('2500.00')),\n",
       " (202, Decimal('50000.00'), Decimal('4000.00'), Decimal('1500.00'), Decimal('1000.00')),\n",
       " (203, Decimal('45000.00'), Decimal('3000.00'), Decimal('1200.00'), Decimal('1000.00')),\n",
       " (204, Decimal('55000.00'), Decimal('3500.00'), Decimal('1700.00'), Decimal('1000.00')),\n",
       " (205, Decimal('50000.00'), Decimal('4000.00'), Decimal('1500.00'), Decimal('2500.00')),\n",
       " (207, Decimal('52000.00'), Decimal('3500.00'), Decimal('1200.00'), Decimal('1000.00')),\n",
       " (208, Decimal('48000.00'), Decimal('3000.00'), Decimal('1500.00'), Decimal('1000.00'))]"
      ]
     },
     "execution_count": 15,
     "metadata": {},
     "output_type": "execute_result"
    }
   ],
   "source": [
    " # 4. View all Salaries\n",
    " %sql SELECT * FROM Salaries"
   ]
  },
  {
   "cell_type": "code",
   "execution_count": null,
   "id": "cde661dc-4583-4417-b101-d80cb0c31b1c",
   "metadata": {},
   "outputs": [],
   "source": [
    "# 5. Insert a new Employee\n",
    "%sql INSERT INTO Employees (EmpID,FirstName,LastName ,DeptID , DesigID , JoinDate) \n",
    "VALUES (208 , 'Tania' , 'Agarwal' , 2,2, '2022-03-1');"
   ]
  },
  {
   "cell_type": "code",
   "execution_count": null,
   "id": "6d37159f-6067-4d15-931f-ed64a4b12033",
   "metadata": {},
   "outputs": [],
   "source": [
    "#6: Insert Salary for new Employee (208)\n",
    "INSERT INTO Salaries (EmpID ,BasicSalary, Allowance,Deductions )\n",
    " VALUES(208, 48000,3000,1500);"
   ]
  },
  {
   "cell_type": "code",
   "execution_count": null,
   "id": "4f3ee2dd-ccdc-472b-9aa3-e409d60d50c1",
   "metadata": {},
   "outputs": [],
   "source": [
    " # 7. Update an Employee's Designation\n",
    "UPDATE Employees\n",
    " SET DesigID = 4\n",
    "WHERE EmpID = 206;"
   ]
  },
  {
   "cell_type": "code",
   "execution_count": null,
   "id": "042ca1b3-1af9-47ee-8fd6-7262eefc83f6",
   "metadata": {},
   "outputs": [],
   "source": [
    " # 8. Delete an Employee\n",
    "DELETE FROM Salaries\n",
    "WHERE EmpID = 206\n"
   ]
  },
  {
   "cell_type": "code",
   "execution_count": null,
   "id": "6bd83247-6ee9-44ef-a596-bbc042bad8a3",
   "metadata": {},
   "outputs": [],
   "source": [
    "DELETE from Employees\n",
    "WHERE EmpID = 206;\n"
   ]
  },
  {
   "cell_type": "code",
   "execution_count": null,
   "id": "a3f2f8f7-5db6-48e6-afaf-839f21d3dcff",
   "metadata": {},
   "outputs": [],
   "source": [
    "# 9. Add a new column to Salaries table\n",
    "ALTER TABLE Salaries\n",
    "ADD Bonus DECIMAL(10,2)\n"
   ]
  },
  {
   "cell_type": "code",
   "execution_count": null,
   "id": "98c008c9-0a9f-4b3c-b8a0-c543c58184d4",
   "metadata": {},
   "outputs": [],
   "source": [
    "# 9. Update Bonus for an employee\n",
    "UPDATE Salaries\n",
    "SET Bonus = 2500\n",
    "WHERE EmpID =205;"
   ]
  },
  {
   "cell_type": "code",
   "execution_count": null,
   "id": "e961f57a-6bfb-40ce-88a6-01f4a78a7243",
   "metadata": {},
   "outputs": [],
   "source": [
    "# 10. Drop the Bonus column (If Needed)\n",
    "ALTER TABLE salaries\n",
    "DROP COLUMN Bonus;"
   ]
  },
  {
   "cell_type": "markdown",
   "id": "ae07b5e7-b5ae-474c-8c15-c3e5166408af",
   "metadata": {},
   "source": [
    "# ✅ INTERMEDIATE LEVEL QUERIES (JOIN, GROUP BY, CASE)"
   ]
  },
  {
   "cell_type": "code",
   "execution_count": null,
   "id": "d3e3f4b2-1d5b-492f-90b7-0308fe1db53e",
   "metadata": {},
   "outputs": [],
   "source": [
    "-- 11. Join Employees with Salaries\n",
    "SELECT E.EmpID, FirstName, LastName, BasicSalary, Allowance\n",
    "FROM Employees E\n",
    "JOIN Salaries S ON E.EmpID = S.EmpID;"
   ]
  },
  {
   "cell_type": "code",
   "execution_count": null,
   "id": "41d06822-fabd-41c6-856e-d13b957ed136",
   "metadata": {},
   "outputs": [],
   "source": [
    "# 12. Join Employees with Departments\n",
    "%sql SELECT E.FirstName , E.LastName , D.DeptName\n",
    "FROM Employees E\n",
    "JOIN Departments D ON E.DeptID = D.DeptID"
   ]
  },
  {
   "cell_type": "code",
   "execution_count": null,
   "id": "a6b3edf7-7baa-40c3-945e-295c2b8d7dec",
   "metadata": {},
   "outputs": [],
   "source": [
    "# 13. Total Salary (Basic + Allowance) for each employee\n",
    "%sql SELECT EmpID , (BasicSalary + Allowance) AS  TotalSalary\n",
    "From salaries"
   ]
  },
  {
   "cell_type": "code",
   "execution_count": 33,
   "id": "c27b64e1-bc86-4bf1-9499-2bb6c6425516",
   "metadata": {},
   "outputs": [
    {
     "name": "stdout",
     "output_type": "stream",
     "text": [
      " * mssql+pyodbc://@localhost/PythonPracticeDB?driver=ODBC+Driver+17+for+SQL+Server\n",
      "Done.\n"
     ]
    },
    {
     "data": {
      "text/html": [
       "<table>\n",
       "    <thead>\n",
       "        <tr>\n",
       "            <th>EmpID</th>\n",
       "            <th>BasicSalary</th>\n",
       "            <th>TaxStatus</th>\n",
       "        </tr>\n",
       "    </thead>\n",
       "    <tbody>\n",
       "        <tr>\n",
       "            <td>201</td>\n",
       "            <td>60000.00</td>\n",
       "            <td>Taxable</td>\n",
       "        </tr>\n",
       "        <tr>\n",
       "            <td>202</td>\n",
       "            <td>50000.00</td>\n",
       "            <td>Taxable</td>\n",
       "        </tr>\n",
       "        <tr>\n",
       "            <td>203</td>\n",
       "            <td>45000.00</td>\n",
       "            <td>Taxable</td>\n",
       "        </tr>\n",
       "        <tr>\n",
       "            <td>204</td>\n",
       "            <td>55000.00</td>\n",
       "            <td>Taxable</td>\n",
       "        </tr>\n",
       "        <tr>\n",
       "            <td>205</td>\n",
       "            <td>50000.00</td>\n",
       "            <td>Taxable</td>\n",
       "        </tr>\n",
       "        <tr>\n",
       "            <td>207</td>\n",
       "            <td>52000.00</td>\n",
       "            <td>Taxable</td>\n",
       "        </tr>\n",
       "        <tr>\n",
       "            <td>208</td>\n",
       "            <td>48000.00</td>\n",
       "            <td>Taxable</td>\n",
       "        </tr>\n",
       "    </tbody>\n",
       "</table>"
      ],
      "text/plain": [
       "[(201, Decimal('60000.00'), 'Taxable'),\n",
       " (202, Decimal('50000.00'), 'Taxable'),\n",
       " (203, Decimal('45000.00'), 'Taxable'),\n",
       " (204, Decimal('55000.00'), 'Taxable'),\n",
       " (205, Decimal('50000.00'), 'Taxable'),\n",
       " (207, Decimal('52000.00'), 'Taxable'),\n",
       " (208, Decimal('48000.00'), 'Taxable')]"
      ]
     },
     "execution_count": 33,
     "metadata": {},
     "output_type": "execute_result"
    }
   ],
   "source": [
    "# 14. Use CASE to show tax status\n",
    "%sql SELECT EmpID, BasicSalary,  CASE WHEN BasicSalary > 5000 THEN 'Taxable' ELSE 'Non-Taxable' END AS TaxStatus FROM Salaries;"
   ]
  },
  {
   "cell_type": "code",
   "execution_count": null,
   "id": "8eb2d2b4-5d17-4ad2-b37c-eefb6c17b492",
   "metadata": {},
   "outputs": [],
   "source": [
    "# 15. Count employees in each department\n",
    "%sqlSELECT DeptID, COUNT(*) AS TotalEmployees FROM Employees GROUP BY DeptID;"
   ]
  },
  {
   "cell_type": "code",
   "execution_count": 34,
   "id": "f2d6733f-d9cd-4d3a-b5f5-61412e5af404",
   "metadata": {},
   "outputs": [
    {
     "ename": "SyntaxError",
     "evalue": "invalid syntax (3390625354.py, line 3)",
     "output_type": "error",
     "traceback": [
      "  \u001b[36mCell\u001b[39m\u001b[36m \u001b[39m\u001b[32mIn[34]\u001b[39m\u001b[32m, line 3\u001b[39m\n\u001b[31m    \u001b[39m\u001b[31mFROM Employees E\u001b[39m\n         ^\n\u001b[31mSyntaxError\u001b[39m\u001b[31m:\u001b[39m invalid syntax\n"
     ]
    }
   ],
   "source": [
    "# 16. Average salary per department\n",
    "%sql SELECT E.DeptID, AVG(S.BasicSalary) AS AvgSalary\n",
    "FROM Employees E\n",
    "JOIN Salaries S ON E.EmpID = S.EmpID\n",
    "GROUP BY E.DeptID;\n",
    "\n",
    "\n",
    "\n",
    "\n",
    "\n",
    "\n",
    "\n",
    "\n",
    "\n",
    "\n",
    "\n"
   ]
  },
  {
   "cell_type": "code",
   "execution_count": null,
   "id": "8304d4b2-1bdd-4ab4-8109-b0928460d938",
   "metadata": {},
   "outputs": [],
   "source": []
  },
  {
   "cell_type": "code",
   "execution_count": 2,
   "id": "228da849",
   "metadata": {},
   "outputs": [
    {
     "ename": "IndentationError",
     "evalue": "unexpected indent (3342720614.py, line 3)",
     "output_type": "error",
     "traceback": [
      "  \u001b[36mCell\u001b[39m\u001b[36m \u001b[39m\u001b[32mIn[2]\u001b[39m\u001b[32m, line 3\u001b[39m\n\u001b[31m    \u001b[39m\u001b[31mCASE\u001b[39m\n    ^\n\u001b[31mIndentationError\u001b[39m\u001b[31m:\u001b[39m unexpected indent\n"
     ]
    }
   ],
   "source": [
    "\n",
    "\n"
   ]
  },
  {
   "cell_type": "code",
   "execution_count": 5,
   "id": "47a49488",
   "metadata": {},
   "outputs": [
    {
     "name": "stderr",
     "output_type": "stream",
     "text": [
      "UsageError: Line magic function `%sqlSELECT` not found.\n"
     ]
    }
   ],
   "source": [
    "\n",
    "\n"
   ]
  },
  {
   "cell_type": "code",
   "execution_count": null,
   "id": "59eb5eea",
   "metadata": {},
   "outputs": [],
   "source": [
    "\n",
    "\n",
    "\n",
    "# 17. Employees who joined after 2022\n",
    "%sql SELECT * FROM Employees\n",
    "WHERE JoinDate > '2022-01-01';\n",
    "\n",
    "# 18. Get top 3 highest salaries\n",
    "%sql SELECT TOP 3 EmpID, BasicSalary\n",
    "FROM Salaries\n",
    "ORDER BY BasicSalary DESC;\n",
    "\n",
    "# 19. Employees without salary records\n",
    "%sql SELECT *\n",
    "FROM Employees\n",
    "WHERE EmpID NOT IN (%sql SELECT EmpID FROM Salaries);\n",
    "\n",
    "# 20. Show full name and total salary\n",
    "%sql SELECT FirstName + ' ' + LastName AS FullName,\n",
    "       (BasicSalary + Allowance - ISNULL(Deductions, 0)) AS NetSalary\n",
    "FROM Employees E\n",
    "JOIN Salaries S ON E.EmpID = S.EmpID;\n",
    "\n",
    "# ✅ You're now practicing %sql SELECT, INSERT, UPDATE, DELETE, ALTER, JOIN, GROUP BY, CASE\n",
    "%sql SELECT EmpID, Bonus FROM Salaries;\n",
    "\n",
    "%sql SELECT COLUMN_NAME \n",
    "FROM INFORMATION_SCHEMA.COLUMNS \n",
    "WHERE TABLE_NAME = 'Salaries';\n",
    "\n",
    "UPDATE Salaries\n",
    "SET Bonus = 2500\n",
    "WHERE EmpID = 201;\n",
    "\n",
    "UPDATE Salaries\n",
    "SET Bonus = 1000\n",
    "WHERE Bonus IS NULL;\n",
    "\n"
   ]
  }
 ],
 "metadata": {
  "kernelspec": {
   "display_name": "Python 3.11 (SQL Ready)",
   "language": "python",
   "name": "myenv"
  },
  "language_info": {
   "codemirror_mode": {
    "name": "ipython",
    "version": 3
   },
   "file_extension": ".py",
   "mimetype": "text/x-python",
   "name": "python",
   "nbconvert_exporter": "python",
   "pygments_lexer": "ipython3",
   "version": "3.11.8"
  }
 },
 "nbformat": 4,
 "nbformat_minor": 5
}
