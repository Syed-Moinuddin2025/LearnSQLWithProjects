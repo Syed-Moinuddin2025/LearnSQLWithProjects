{
 "cells": [
  {
   "cell_type": "markdown",
   "metadata": {},
   "source": [
    " # 🔰 Lesson 1: Python Print Statement aur Comments"
   ]
  },
  {
   "cell_type": "markdown",
   "metadata": {},
   "source": [
    "## Python print() Function   Use to display output"
   ]
  },
  {
   "cell_type": "markdown",
   "metadata": {},
   "source": [
    "# Lesson 1: Basic Syntax and Print\n",
    "\n",
    "## 📘 Syntax Rules:\n",
    "- No semicolon needed\n",
    "- Indentation matters\n",
    "- Use `print()` to display output\n",
    "\n",
    "## 🧪 Examples:"
   ]
  },
  {
   "cell_type": "markdown",
   "metadata": {},
   "source": [
    "**Code Cell 1: Hello World**"
   ]
  },
  {
   "cell_type": "code",
   "execution_count": 2,
   "metadata": {},
   "outputs": [
    {
     "name": "stdout",
     "output_type": "stream",
     "text": [
      "Assalam Alaykum\n"
     ]
    }
   ],
   "source": [
    "print (\"Assalam Alaykum\")"
   ]
  },
  {
   "cell_type": "code",
   "execution_count": 2,
   "metadata": {
    "azdata_cell_guid": "9916df87-8ca8-43e4-af78-dec3d4ed20bb",
    "language": "python"
   },
   "outputs": [
    {
     "name": "stdout",
     "output_type": "stream",
     "text": [
      "Hello from Python in Azure Data Studio!\n"
     ]
    }
   ],
   "source": [
    "print(\"Hello from Python in Azure Data Studio!\")"
   ]
  },
  {
   "cell_type": "code",
   "execution_count": 3,
   "metadata": {
    "azdata_cell_guid": "3a4b5287-5431-47b8-bd2f-4d8a3bdc91f4",
    "language": "python"
   },
   "outputs": [
    {
     "data": {
      "text/plain": [
       "'Hello my name is moin '"
      ]
     },
     "execution_count": 3,
     "metadata": {},
     "output_type": "execute_result"
    }
   ],
   "source": [
    "(\"Hello my name is moin \")"
   ]
  },
  {
   "cell_type": "markdown",
   "metadata": {},
   "source": [
    "***🔹 Code Cell 2: Multiple Lines***"
   ]
  },
  {
   "cell_type": "code",
   "execution_count": 5,
   "metadata": {},
   "outputs": [
    {
     "name": "stdout",
     "output_type": "stream",
     "text": [
      "Learning Python is easy.\n",
      "What is your name?\n"
     ]
    }
   ],
   "source": [
    "print(\"Learning Python is easy.\")\n",
    "print(\"What is your name?\")"
   ]
  },
  {
   "cell_type": "markdown",
   "metadata": {},
   "source": [
    "### 🔹 Code Cell 3: Escape Characters"
   ]
  },
  {
   "cell_type": "code",
   "execution_count": 7,
   "metadata": {},
   "outputs": [
    {
     "name": "stdout",
     "output_type": "stream",
     "text": [
      "Yeh \"Python\" ka lesson hai.\n",
      "Line1\n",
      "Line2\n"
     ]
    }
   ],
   "source": [
    "print(\"Yeh \\\"Python\\\" ka lesson hai.\")\n",
    "print(\"Line1\\nLine2\")"
   ]
  },
  {
   "cell_type": "code",
   "execution_count": 9,
   "metadata": {},
   "outputs": [
    {
     "name": "stdout",
     "output_type": "stream",
     "text": [
      "She said: \"Hello!\"\n",
      "It's a beautiful day!\n",
      "Line1\n",
      "Line2\n"
     ]
    }
   ],
   "source": [
    "print(\"She said: \\\"Hello!\\\"\")\n",
    "print('It\\'s a beautiful day!')\n",
    "print(\"Line1\\nLine2\")       # \\n = new line"
   ]
  },
  {
   "cell_type": "markdown",
   "metadata": {
    "azdata_cell_guid": "1806a84a-22d6-4854-aeee-086c53258100",
    "language": "python"
   },
   "source": [
    "married)\r\n"
   ]
  },
  {
   "cell_type": "markdown",
   "metadata": {},
   "source": [
    "# Lesson 2: Variables & Data Types in Python"
   ]
  },
  {
   "cell_type": "markdown",
   "metadata": {},
   "source": [
    "### 🔹 1. What is a Variable? "
   ]
  },
  {
   "cell_type": "markdown",
   "metadata": {},
   "source": [
    " ###  🍁Variables are containers for storing data values."
   ]
  },
  {
   "cell_type": "markdown",
   "metadata": {},
   "source": [
    " 🔸 Code Cell 1: Basic Variable Examples"
   ]
  },
  {
   "cell_type": "code",
   "execution_count": 13,
   "metadata": {},
   "outputs": [],
   "source": [
    "name = 'Ahemad'\n",
    "age = 35\n",
    "height = 5.8\n",
    "is_student = True \n"
   ]
  },
  {
   "cell_type": "markdown",
   "metadata": {},
   "source": [
    "🔸 Code Cell 2: Print various variables"
   ]
  },
  {
   "cell_type": "code",
   "execution_count": 14,
   "metadata": {},
   "outputs": [
    {
     "name": "stdout",
     "output_type": "stream",
     "text": [
      "Name: Ahemad\n",
      "Age: 35\n",
      "Height 5.8\n",
      "Student True\n"
     ]
    }
   ],
   "source": [
    "print('Name:',name)\n",
    "print('Age:', age)\n",
    "print('Height',height)\n",
    "print('Student', is_student)"
   ]
  },
  {
   "cell_type": "markdown",
   "metadata": {},
   "source": [
    "## Python Variables and Data Types — With Examples"
   ]
  },
  {
   "cell_type": "code",
   "execution_count": 16,
   "metadata": {},
   "outputs": [
    {
     "name": "stdout",
     "output_type": "stream",
     "text": [
      "Name: Syed Moin\n",
      "Age: 45\n",
      "Salary: 120000.5\n",
      "Married: True\n"
     ]
    }
   ],
   "source": [
    "my_name = \"Syed Moin\"\n",
    "my_age = 45\n",
    "my_salary = 120000.50\n",
    "is_married = True\n",
    "\n",
    "print(\"Name:\", my_name)\n",
    "print(\"Age:\", my_age)\n",
    "print(\"Salary:\", my_salary)\n",
    "print(\"Married:\", is_married)\n"
   ]
  },
  {
   "cell_type": "markdown",
   "metadata": {},
   "source": [
    "🔸 Code Cell 3: Perform a type check"
   ]
  },
  {
   "cell_type": "code",
   "execution_count": 18,
   "metadata": {},
   "outputs": [
    {
     "name": "stdout",
     "output_type": "stream",
     "text": [
      "<class 'str'>\n",
      "<class 'int'>\n",
      "<class 'float'>\n",
      "<class 'bool'>\n"
     ]
    }
   ],
   "source": [
    "print(type(my_name))\n",
    "print(type(my_age))\n",
    "print(type(my_salary))\n",
    "print(type(is_married))"
   ]
  },
  {
   "cell_type": "code",
   "execution_count": 24,
   "metadata": {},
   "outputs": [
    {
     "name": "stdout",
     "output_type": "stream",
     "text": [
      "EmployeeName Zain Arshad\n",
      "EmployeeID 205\n",
      "MonthlySalary 35000\n",
      "Permanent False\n"
     ]
    }
   ],
   "source": [
    "employee_name = 'Zain Arshad'\n",
    "employee_id = 205\n",
    "monthly_salary =35000\n",
    "is_permanent = False\n",
    "\n",
    "print ('EmployeeName' , employee_name)\n",
    "print('EmployeeID' ,employee_id)\n",
    "print('MonthlySalary',monthly_salary)\n",
    "print('Permanent' , is_permanent)"
   ]
  },
  {
   "cell_type": "code",
   "execution_count": 25,
   "metadata": {},
   "outputs": [
    {
     "name": "stdout",
     "output_type": "stream",
     "text": [
      "<class 'str'>\n",
      "<class 'int'>\n",
      "<class 'int'>\n",
      "<class 'bool'>\n"
     ]
    }
   ],
   "source": [
    "print (type(employee_name) )\n",
    "print(type(employee_id))\n",
    "print(type(monthly_salary))\n",
    "print(type(is_permanent) ) "
   ]
  },
  {
   "cell_type": "code",
   "execution_count": null,
   "metadata": {},
   "outputs": [],
   "source": []
  }
 ],
 "metadata": {
  "kernelspec": {
   "display_name": "Python 3 (ipykernel)",
   "language": "python",
   "name": "python3"
  },
  "language_info": {
   "codemirror_mode": {
    "name": "ipython",
    "version": 3
   },
   "file_extension": ".py",
   "mimetype": "text/x-python",
   "name": "python",
   "nbconvert_exporter": "python",
   "pygments_lexer": "ipython3",
   "version": "3.11.8"
  }
 },
 "nbformat": 4,
 "nbformat_minor": 4
}
