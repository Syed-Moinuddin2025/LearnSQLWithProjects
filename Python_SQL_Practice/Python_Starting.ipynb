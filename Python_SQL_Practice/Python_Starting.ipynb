{
 "cells": [
  {
   "cell_type": "code",
   "execution_count": 1,
   "metadata": {
    "azdata_cell_guid": "9916df87-8ca8-43e4-af78-dec3d4ed20bb",
    "language": "python"
   },
   "outputs": [
    {
     "name": "stdout",
     "output_type": "stream",
     "text": [
      "Hello from Python in Azure Data Studio!\n"
     ]
    }
   ],
   "source": [
    "print(\"Hello from Python in Azure Data Studio!\")"
   ]
  },
  {
   "cell_type": "code",
   "execution_count": 2,
   "metadata": {
    "azdata_cell_guid": "3a4b5287-5431-47b8-bd2f-4d8a3bdc91f4",
    "language": "python"
   },
   "outputs": [
    {
     "data": {
      "text/plain": [
       "'Hello my name is moin '"
      ]
     },
     "execution_count": 2,
     "metadata": {},
     "output_type": "execute_result"
    }
   ],
   "source": [
    "(\"Hello my name is moin \")"
   ]
  },
  {
   "cell_type": "code",
   "execution_count": 3,
   "metadata": {
    "azdata_cell_guid": "1806a84a-22d6-4854-aeee-086c53258100",
    "language": "python"
   },
   "outputs": [
    {
     "name": "stdout",
     "output_type": "stream",
     "text": [
      "Name: Ahmed\n",
      "Age: 27\n",
      "Salary: 12000.5\n",
      "Married: False\n"
     ]
    }
   ],
   "source": [
    "# Mera Variable Practice\r\n",
    "my_name = \"Ahmed\"\r\n",
    "my_age = 27\r\n",
    "my_salary = 12000.50\r\n",
    "is_married = False\r\n",
    "\r\n",
    "print(\"Name:\", my_name)\r\n",
    "print(\"Age:\", my_age)\r\n",
    "print(\"Salary:\", my_salary)\r\n",
    "print(\"Married:\", is_married)\r\n"
   ]
  },
  {
   "cell_type": "code",
   "execution_count": null,
   "metadata": {},
   "outputs": [],
   "source": []
  }
 ],
 "metadata": {
  "kernelspec": {
   "display_name": "Python 3 (ipykernel)",
   "language": "python",
   "name": "python3"
  },
  "language_info": {
   "codemirror_mode": {
    "name": "ipython",
    "version": 3
   },
   "file_extension": ".py",
   "mimetype": "text/x-python",
   "name": "python",
   "nbconvert_exporter": "python",
   "pygments_lexer": "ipython3",
   "version": "3.11.8"
  }
 },
 "nbformat": 4,
 "nbformat_minor": 4
}
