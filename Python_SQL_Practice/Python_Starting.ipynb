{
 "cells": [
  {
   "cell_type": "markdown",
   "metadata": {},
   "source": [
    " # 🔰 Lesson 1: Python Print Statement aur Comments"
   ]
  },
  {
   "cell_type": "markdown",
   "metadata": {},
   "source": [
    "## Python print() Function   Use to display output"
   ]
  },
  {
   "cell_type": "markdown",
   "metadata": {},
   "source": [
    "# Lesson 1: Basic Syntax and Print\n",
    "\n",
    "## 📘 Syntax Rules:\n",
    "- No semicolon needed\n",
    "- Indentation matters\n",
    "- Use `print()` to display output\n",
    "\n",
    "## 🧪 Examples:"
   ]
  },
  {
   "cell_type": "markdown",
   "metadata": {},
   "source": [
    "**Code Cell 1: Hello World**"
   ]
  },
  {
   "cell_type": "code",
   "execution_count": 2,
   "metadata": {},
   "outputs": [
    {
     "name": "stdout",
     "output_type": "stream",
     "text": [
      "Assalam Alaykum\n"
     ]
    }
   ],
   "source": [
    "print (\"Assalam Alaykum\")"
   ]
  },
  {
   "cell_type": "code",
   "execution_count": 2,
   "metadata": {
    "azdata_cell_guid": "9916df87-8ca8-43e4-af78-dec3d4ed20bb",
    "language": "python"
   },
   "outputs": [
    {
     "name": "stdout",
     "output_type": "stream",
     "text": [
      "Hello from Python in Azure Data Studio!\n"
     ]
    }
   ],
   "source": [
    "print(\"Hello from Python in Azure Data Studio!\")"
   ]
  },
  {
   "cell_type": "code",
   "execution_count": 3,
   "metadata": {
    "azdata_cell_guid": "3a4b5287-5431-47b8-bd2f-4d8a3bdc91f4",
    "language": "python"
   },
   "outputs": [
    {
     "data": {
      "text/plain": [
       "'Hello my name is moin '"
      ]
     },
     "execution_count": 3,
     "metadata": {},
     "output_type": "execute_result"
    }
   ],
   "source": [
    "(\"Hello my name is moin \")"
   ]
  },
  {
   "cell_type": "markdown",
   "metadata": {},
   "source": [
    "***🔹 Code Cell 2: Multiple Lines***"
   ]
  },
  {
   "cell_type": "code",
   "execution_count": 5,
   "metadata": {},
   "outputs": [
    {
     "name": "stdout",
     "output_type": "stream",
     "text": [
      "Learning Python is easy.\n",
      "What is your name?\n"
     ]
    }
   ],
   "source": [
    "print(\"Learning Python is easy.\")\n",
    "print(\"What is your name?\")"
   ]
  },
  {
   "cell_type": "markdown",
   "metadata": {},
   "source": [
    "## 🔹 Code Cell 3: Escape Characters"
   ]
  },
  {
   "cell_type": "code",
   "execution_count": 7,
   "metadata": {},
   "outputs": [
    {
     "name": "stdout",
     "output_type": "stream",
     "text": [
      "Yeh \"Python\" ka lesson hai.\n",
      "Line1\n",
      "Line2\n"
     ]
    }
   ],
   "source": [
    "print(\"Yeh \\\"Python\\\" ka lesson hai.\")\n",
    "print(\"Line1\\nLine2\")"
   ]
  },
  {
   "cell_type": "code",
   "execution_count": 9,
   "metadata": {},
   "outputs": [
    {
     "name": "stdout",
     "output_type": "stream",
     "text": [
      "She said: \"Hello!\"\n",
      "It's a beautiful day!\n",
      "Line1\n",
      "Line2\n"
     ]
    }
   ],
   "source": [
    "print(\"She said: \\\"Hello!\\\"\")\n",
    "print('It\\'s a beautiful day!')\n",
    "print(\"Line1\\nLine2\")       # \\n = new line"
   ]
  },
  {
   "cell_type": "markdown",
   "metadata": {
    "azdata_cell_guid": "1806a84a-22d6-4854-aeee-086c53258100",
    "language": "python"
   },
   "source": [
    "married)\r\n"
   ]
  },
  {
   "cell_type": "markdown",
   "metadata": {},
   "source": [
    "# Variable Practice"
   ]
  },
  {
   "cell_type": "code",
   "execution_count": null,
   "metadata": {},
   "outputs": [],
   "source": [
    "my_name = \"Ahmed\"\n",
    "my_age = 27\n",
    "my_salary = 12000.50\n",
    "is_married = False\n",
    "\n",
    "print(\"Name:\", my_name)\n",
    "print(\"Age:\", my_age)\n",
    "print(\"Salary:\", my_salary)\n",
    "print(\"Married:\", is_married)\n"
   ]
  },
  {
   "cell_type": "code",
   "execution_count": null,
   "metadata": {},
   "outputs": [],
   "source": []
  },
  {
   "cell_type": "code",
   "execution_count": null,
   "metadata": {},
   "outputs": [],
   "source": []
  }
 ],
 "metadata": {
  "kernelspec": {
   "display_name": "Python 3 (ipykernel)",
   "language": "python",
   "name": "python3"
  },
  "language_info": {
   "codemirror_mode": {
    "name": "ipython",
    "version": 3
   },
   "file_extension": ".py",
   "mimetype": "text/x-python",
   "name": "python",
   "nbconvert_exporter": "python",
   "pygments_lexer": "ipython3",
   "version": "3.11.8"
  }
 },
 "nbformat": 4,
 "nbformat_minor": 4
}
