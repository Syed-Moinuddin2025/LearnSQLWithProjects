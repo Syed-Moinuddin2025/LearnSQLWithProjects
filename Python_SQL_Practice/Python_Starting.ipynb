{
    "metadata": {
        "kernelspec": {
            "name": "SQL",
            "display_name": "SQL",
            "language": "sql"
        },
        "language_info": {
            "name": "sql",
            "version": ""
        }
    },
    "nbformat_minor": 2,
    "nbformat": 4,
    "cells": [
        {
            "cell_type": "markdown",
            "source": [
                " # 🔰 Lesson 1: Python Print Statement aur Comments"
            ],
            "metadata": {
                "azdata_cell_guid": "399aaa32-8943-4f53-ae6d-871bcb8f2270"
            }
        },
        {
            "cell_type": "markdown",
            "source": [
                "## Python print() Function   Use to display output"
            ],
            "metadata": {
                "azdata_cell_guid": "e4658454-1dc9-4aae-ad13-11a9a80ef2d0"
            }
        },
        {
            "cell_type": "markdown",
            "source": [
                "# Lesson 1: Basic Syntax and Print\n",
                "\n",
                "## 📘 Syntax Rules:\n",
                "- No semicolon needed\n",
                "- Indentation matters\n",
                "- Use `print()` to display output\n",
                "\n",
                "## 🧪 Examples:"
            ],
            "metadata": {
                "azdata_cell_guid": "d4dec908-f7bd-4cbf-afb1-d628634af87d"
            }
        },
        {
            "cell_type": "markdown",
            "source": [
                "**Code Cell 1: Hello World**"
            ],
            "metadata": {
                "azdata_cell_guid": "dc2227e3-bb3f-463b-93cd-33b34c6498bc"
            }
        },
        {
            "cell_type": "code",
            "source": [
                "print (\"Assalam Alaykum\")"
            ],
            "metadata": {
                "azdata_cell_guid": "ec8a956f-3fd2-4473-8d0b-7828f8c3f84c",
                "language": "sql"
            },
            "outputs": [
                {
                    "output_type": "error",
                    "evalue": "Msg 128, Level 15, State 1, Line 1\r\nThe name \"Assalam Alaykum\" is not permitted in this context. Valid expressions are constants, constant expressions, and (in some contexts) variables. Column names are not permitted.",
                    "ename": "",
                    "traceback": []
                },
                {
                    "output_type": "display_data",
                    "data": {
                        "text/html": "Total execution time: 00:00:00"
                    },
                    "metadata": {}
                }
            ],
            "execution_count": 2
        },
        {
            "cell_type": "code",
            "source": [
                "print(\"Hello from Python in Azure Data Studio!\")"
            ],
            "metadata": {
                "azdata_cell_guid": "9916df87-8ca8-43e4-af78-dec3d4ed20bb",
                "language": "sql"
            },
            "outputs": [
                {
                    "output_type": "stream",
                    "name": "stdout",
                    "text": "Hello from Python in Azure Data Studio!\n"
                }
            ],
            "execution_count": 2
        },
        {
            "cell_type": "code",
            "source": [
                "(\"Hello my name is moin \")"
            ],
            "metadata": {
                "azdata_cell_guid": "3a4b5287-5431-47b8-bd2f-4d8a3bdc91f4",
                "language": "sql"
            },
            "outputs": [
                {
                    "output_type": "execute_result",
                    "execution_count": 3,
                    "data": {
                        "text/plain": "'Hello my name is moin '"
                    },
                    "metadata": {}
                }
            ],
            "execution_count": 3
        },
        {
            "cell_type": "markdown",
            "source": [
                "***🔹 Code Cell 2: Multiple Lines***"
            ],
            "metadata": {
                "azdata_cell_guid": "6ee0dac3-4496-44f4-99eb-c802021da5c2"
            }
        },
        {
            "cell_type": "code",
            "source": [
                "print(\"Learning Python is easy.\")\n",
                "print(\"What is your name?\")"
            ],
            "metadata": {
                "azdata_cell_guid": "724722a0-1da8-49c5-9e56-3e0dde93dc65",
                "language": "sql"
            },
            "outputs": [
                {
                    "output_type": "stream",
                    "name": "stdout",
                    "text": "Learning Python is easy.\nWhat is your name?\n"
                }
            ],
            "execution_count": 5
        },
        {
            "cell_type": "markdown",
            "source": [
                "### 🔹 Code Cell 3: Escape Characters"
            ],
            "metadata": {
                "azdata_cell_guid": "9cb552d6-de10-436f-a712-7ff38952661f"
            }
        },
        {
            "cell_type": "code",
            "source": [
                "print(\"Yeh \\\"Python\\\" ka lesson hai.\")\n",
                "print(\"Line1\\nLine2\")"
            ],
            "metadata": {
                "azdata_cell_guid": "256a65da-d568-4170-933a-d9b9646a0cd2",
                "language": "sql"
            },
            "outputs": [
                {
                    "output_type": "stream",
                    "name": "stdout",
                    "text": "Yeh \"Python\" ka lesson hai.\nLine1\nLine2\n"
                }
            ],
            "execution_count": 7
        },
        {
            "cell_type": "code",
            "source": [
                "print(\"She said: \\\"Hello!\\\"\")\n",
                "print('It\\'s a beautiful day!')\n",
                "print(\"Line1\\nLine2\")       # \\n = new line"
            ],
            "metadata": {
                "azdata_cell_guid": "41f3c8a2-456f-4240-a780-29bf81b4fc35",
                "language": "sql"
            },
            "outputs": [
                {
                    "output_type": "stream",
                    "name": "stdout",
                    "text": "She said: \"Hello!\"\nIt's a beautiful day!\nLine1\nLine2\n"
                }
            ],
            "execution_count": 9
        },
        {
            "cell_type": "code",
            "source": [
                "print (\"Hello Friend: \\\"We Love Python\\\"\")\n"
            ],
            "metadata": {
                "azdata_cell_guid": "1806a84a-22d6-4854-aeee-086c53258100",
                "language": "sql"
            },
            "outputs": [
                {
                    "output_type": "stream",
                    "name": "stdout",
                    "text": "Hello Friend: \"We Love Python\"\n"
                }
            ],
            "execution_count": 11
        },
        {
            "cell_type": "code",
            "source": [
                "print(\"My Name is Syed \\n I am learning python \")"
            ],
            "metadata": {
                "azdata_cell_guid": "900747cb-0c66-421c-aa78-b6d0a0dd013d",
                "language": "sql"
            },
            "outputs": [
                {
                    "output_type": "stream",
                    "name": "stdout",
                    "text": "My Name is Syed \n I am learning python \n"
                }
            ],
            "execution_count": 64
        },
        {
            "cell_type": "markdown",
            "source": [
                "# Lesson 2: Variables & Data Types in Python"
            ],
            "metadata": {
                "azdata_cell_guid": "db31e134-8566-4fb1-9f30-6080ae540328"
            }
        },
        {
            "cell_type": "markdown",
            "source": [
                "### 🔹 1. What is a Variable? "
            ],
            "metadata": {
                "azdata_cell_guid": "e89e2572-8a0a-45a9-857d-d77ab872eecc"
            }
        },
        {
            "cell_type": "markdown",
            "source": [
                "####   Variables are containers for storing data values."
            ],
            "metadata": {
                "azdata_cell_guid": "d74c590f-04bf-4147-933b-d3bb03969250"
            }
        },
        {
            "cell_type": "markdown",
            "source": [
                " 🔸 Code Cell 1: Basic Variable Examples"
            ],
            "metadata": {
                "azdata_cell_guid": "29874e1d-00c1-4a3b-8b29-2e375c8def04"
            }
        },
        {
            "cell_type": "code",
            "source": [
                "#  Variables in python\n",
                "a = 123456  # integer number \n",
                "print(a)"
            ],
            "metadata": {
                "azdata_cell_guid": "8e9ce038-b719-4a70-9085-0b1600df65f2",
                "language": "sql"
            },
            "outputs": [
                {
                    "output_type": "stream",
                    "name": "stdout",
                    "text": "123456\n"
                }
            ],
            "execution_count": 55
        },
        {
            "cell_type": "code",
            "source": [
                "b = 1.1357101 # decimal number\n",
                "print(b)\n",
                "\n"
            ],
            "metadata": {
                "azdata_cell_guid": "46c7e473-6552-4f44-81ae-cc612251b39f",
                "language": "sql"
            },
            "outputs": [
                {
                    "output_type": "stream",
                    "name": "stdout",
                    "text": "1.1357101\n"
                }
            ],
            "execution_count": 45
        },
        {
            "cell_type": "code",
            "source": [
                "c = \"My Name is Syed \"\"I am learning python \"  # word/sentence- use quotes\n",
                "print(c) "
            ],
            "metadata": {
                "azdata_cell_guid": "b14d339e-1d40-47fd-881c-eb843a6d26d7",
                "language": "sql"
            },
            "outputs": [
                {
                    "output_type": "stream",
                    "name": "stdout",
                    "text": "My Name is Syed I am learning python \n"
                }
            ],
            "execution_count": 50
        },
        {
            "cell_type": "code",
            "source": [
                "Rani = 26  # declare a varibale using varibale \n",
                "d = Rani\n",
                "print(d)"
            ],
            "metadata": {
                "azdata_cell_guid": "685d074d-e084-45d5-ab6d-29247dbcd21b",
                "language": "sql"
            },
            "outputs": [
                {
                    "output_type": "stream",
                    "name": "stdout",
                    "text": "26\n"
                }
            ],
            "execution_count": 51
        },
        {
            "cell_type": "code",
            "source": [
                "x = 10     # adding a number to a variable \n",
                "print(x+51)"
            ],
            "metadata": {
                "azdata_cell_guid": "11fc4477-31e3-46a9-8823-a9d72c56e5ac",
                "language": "sql"
            },
            "outputs": [
                {
                    "output_type": "stream",
                    "name": "stdout",
                    "text": "61\n"
                }
            ],
            "execution_count": 53
        },
        {
            "cell_type": "code",
            "source": [
                "a,b,c = 11,12,13  # assign multiple varibales\n",
                "print(a,b,c) \n",
                "print(a)\n",
                "print(b)\n",
                "print(c)"
            ],
            "metadata": {
                "azdata_cell_guid": "3d4f45f3-0abc-4ad5-9da1-26ba488f6b4e",
                "language": "sql"
            },
            "outputs": [
                {
                    "output_type": "stream",
                    "name": "stdout",
                    "text": "11 12 13\n11\n12\n13\n"
                }
            ],
            "execution_count": 57
        },
        {
            "cell_type": "code",
            "source": [
                "# rules to declare a varibales \n",
                "# 1. varibale name must start with: letter or _ \n",
                "_my_name = \"Rashika\"\n",
                "print(_my_name)\n",
                "# _my_name = \"Rashika\"\n",
                "  "
            ],
            "metadata": {
                "azdata_cell_guid": "991a92dc-74d5-45f5-8869-d7f5bde085d4",
                "language": "sql"
            },
            "outputs": [
                {
                    "output_type": "stream",
                    "name": "stdout",
                    "text": "Rashika\n"
                }
            ],
            "execution_count": 59
        },
        {
            "cell_type": "code",
            "source": [
                "# 2. Varibale name can contain: letter, numbers, underscore (_)\n",
                "my_name1 = \"My name is Syed \\n\"   \"I am from Hyderabad\"\n",
                "r1 = 26 \n",
                "_1 = 1\n",
                "print(my_name1)\n",
                "print(r1)\n",
                "print(_1)"
            ],
            "metadata": {
                "azdata_cell_guid": "da1b8427-9554-4d45-9f55-78b3662edbd0",
                "language": "sql"
            },
            "outputs": [
                {
                    "output_type": "stream",
                    "name": "stdout",
                    "text": "My name is Syed \nI am from Hyderabad\n26\n1\n"
                }
            ],
            "execution_count": 63
        },
        {
            "cell_type": "code",
            "source": [
                "# 3. Variables are case sensitive \n",
                "myname = \"Monica \"\n",
                "print(myName) "
            ],
            "metadata": {
                "azdata_cell_guid": "6cb559cf-3cdc-481e-a64c-27a1bc12914d",
                "language": "sql"
            },
            "outputs": [
                {
                    "output_type": "error",
                    "ename": "NameError",
                    "evalue": "name 'myName' is not defined",
                    "traceback": [
                        "\u001b[31m---------------------------------------------------------------------------\u001b[39m",
                        "\u001b[31mNameError\u001b[39m                                 Traceback (most recent call last)",
                        "\u001b[36mCell\u001b[39m\u001b[36m \u001b[39m\u001b[32mIn[82]\u001b[39m\u001b[32m, line 3\u001b[39m\n\u001b[32m      1\u001b[39m \u001b[38;5;66;03m# 3. Variables are case sensitive \u001b[39;00m\n\u001b[32m      2\u001b[39m myname = \u001b[33m\"\u001b[39m\u001b[33mMonica \u001b[39m\u001b[33m\"\u001b[39m\n\u001b[32m----> \u001b[39m\u001b[32m3\u001b[39m \u001b[38;5;28mprint\u001b[39m(\u001b[43mmyName\u001b[49m) \n",
                        "\u001b[31mNameError\u001b[39m: name 'myName' is not defined"
                    ]
                }
            ],
            "execution_count": 82
        },
        {
            "cell_type": "code",
            "source": [
                "name = 'Ahemad'\n",
                "age = 35\n",
                "height = 5.8\n",
                "is_student = True \n"
            ],
            "metadata": {
                "azdata_cell_guid": "fe567146-456c-48a4-987c-44d3a1a1c02a",
                "language": "sql"
            },
            "outputs": [],
            "execution_count": 47
        },
        {
            "cell_type": "markdown",
            "source": [
                "🔸 Code Cell 2: Print various variables"
            ],
            "metadata": {
                "azdata_cell_guid": "d78efdd4-25c7-4dae-965c-4afab41fef51"
            }
        },
        {
            "cell_type": "code",
            "source": [
                "print('Name:',name)\n",
                "print('Age:', age)\n",
                "print('Height',height)\n",
                "print('Student', is_student)"
            ],
            "metadata": {
                "azdata_cell_guid": "78c1e0e3-37a8-404c-8739-9f3a5fb7159c",
                "language": "sql"
            },
            "outputs": [
                {
                    "output_type": "stream",
                    "name": "stdout",
                    "text": "Name: Ahemad\nAge: 35\nHeight 5.8\nStudent True\n"
                }
            ],
            "execution_count": 48
        },
        {
            "cell_type": "markdown",
            "source": [
                "### Python Variables and Data Types — With Examples"
            ],
            "metadata": {
                "azdata_cell_guid": "179f29ec-ed39-406e-809a-4c7f63e119c8"
            }
        },
        {
            "cell_type": "code",
            "source": [
                "my_name = \"Syed Moin\"\n",
                "my_age = 45\n",
                "my_salary = 120000.50\n",
                "is_married = True\n",
                "\n",
                "print(\"Name:\", my_name)\n",
                "print(\"Age:\", my_age)\n",
                "print(\"Salary:\", my_salary)\n",
                "print(\"Married:\", is_married)\n"
            ],
            "metadata": {
                "azdata_cell_guid": "0640d203-e8e2-4629-8c7f-5f55d033251e",
                "language": "sql"
            },
            "outputs": [
                {
                    "output_type": "stream",
                    "name": "stdout",
                    "text": "Name: Syed Moin\nAge: 45\nSalary: 120000.5\nMarried: True\n"
                }
            ],
            "execution_count": 77
        },
        {
            "cell_type": "markdown",
            "source": [
                "🔸 Code Cell 3: Perform a type check"
            ],
            "metadata": {
                "azdata_cell_guid": "4817bf0c-c36c-4850-bee0-fcf6a2431a88"
            }
        },
        {
            "cell_type": "code",
            "source": [
                "print(type(my_name))\n",
                "print(type(my_age))\n",
                "print(type(my_salary))\n",
                "print(type(is_married))"
            ],
            "metadata": {
                "azdata_cell_guid": "dcb1e1de-8f2d-4aeb-98df-9c283093d382",
                "language": "sql"
            },
            "outputs": [
                {
                    "output_type": "stream",
                    "name": "stdout",
                    "text": "<class 'str'>\n<class 'int'>\n<class 'float'>\n<class 'bool'>\n"
                }
            ],
            "execution_count": 78
        },
        {
            "cell_type": "code",
            "source": [
                "employee_name = 'Zain Arshad'\n",
                "employee_id = 205\n",
                "monthly_salary =35000\n",
                "is_permanent = False\n",
                "\n",
                "print ('EmployeeName' , employee_name)\n",
                "print('EmployeeID' ,employee_id)\n",
                "print('MonthlySalary',monthly_salary)\n",
                "print('Permanent' , is_permanent)"
            ],
            "metadata": {
                "azdata_cell_guid": "28e0600c-d181-45fd-95ae-f9b5d622ec32",
                "language": "sql"
            },
            "outputs": [
                {
                    "output_type": "stream",
                    "name": "stdout",
                    "text": "EmployeeName Zain Arshad\nEmployeeID 205\nMonthlySalary 35000\nPermanent False\n"
                }
            ],
            "execution_count": 79
        },
        {
            "cell_type": "code",
            "source": [
                "print (type(employee_name) )\n",
                "print(type(employee_id))\n",
                "print(type(monthly_salary))\n",
                "print(type(is_permanent) ) "
            ],
            "metadata": {
                "azdata_cell_guid": "af4f9b8a-530b-41e8-86e1-55b92ad5a0c7",
                "language": "sql"
            },
            "outputs": [
                {
                    "output_type": "stream",
                    "name": "stdout",
                    "text": "<class 'str'>\n<class 'int'>\n<class 'int'>\n<class 'bool'>\n"
                }
            ],
            "execution_count": 80
        },
        {
            "cell_type": "code",
            "source": [],
            "metadata": {
                "azdata_cell_guid": "8ffa84a5-ca4b-446c-b7de-51aff6467414",
                "language": "sql"
            },
            "outputs": [],
            "execution_count": null
        }
    ]
}