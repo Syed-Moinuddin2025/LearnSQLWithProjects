{
    "metadata": {
        "kernelspec": {
            "name": "python3",
            "display_name": "Python 3 (ipykernel)",
            "language": "python"
        },
        "language_info": {
            "name": "python",
            "version": "3.11.8",
            "mimetype": "text/x-python",
            "codemirror_mode": {
                "name": "ipython",
                "version": 3
            },
            "pygments_lexer": "ipython3",
            "nbconvert_exporter": "python",
            "file_extension": ".py"
        }
    },
    "nbformat_minor": 2,
    "nbformat": 4,
    "cells": [
        {
            "cell_type": "code",
            "source": [
                "print(\"Hello from Python in Azure Data Studio!\")"
            ],
            "metadata": {
                "azdata_cell_guid": "9916df87-8ca8-43e4-af78-dec3d4ed20bb",
                "language": "python"
            },
            "outputs": [
                {
                    "name": "stdout",
                    "text": "Hello from Python in Azure Data Studio!\n",
                    "output_type": "stream"
                }
            ],
            "execution_count": 3
        },
        {
            "cell_type": "code",
            "source": [
                "(\"Hello my name is moin \")"
            ],
            "metadata": {
                "language": "python",
                "azdata_cell_guid": "3a4b5287-5431-47b8-bd2f-4d8a3bdc91f4"
            },
            "outputs": [
                {
                    "data": {
                        "text/plain": "'Hello my name is moin '"
                    },
                    "metadata": {},
                    "execution_count": 4,
                    "output_type": "execute_result"
                }
            ],
            "execution_count": 4
        },
        {
            "cell_type": "code",
            "source": [
                "# Mera Variable Practice\r\n",
                "my_name = \"Ahmed\"\r\n",
                "my_age = 27\r\n",
                "my_salary = 12000.50\r\n",
                "is_married = False\r\n",
                "\r\n",
                "print(\"Name:\", my_name)\r\n",
                "print(\"Age:\", my_age)\r\n",
                "print(\"Salary:\", my_salary)\r\n",
                "print(\"Married:\", is_married)\r\n",
                ""
            ],
            "metadata": {
                "azdata_cell_guid": "1806a84a-22d6-4854-aeee-086c53258100",
                "language": "python"
            },
            "outputs": [
                {
                    "name": "stdout",
                    "text": "Name: Ahmed\nAge: 27\nSalary: 12000.5\nMarried: False\n",
                    "output_type": "stream"
                }
            ],
            "execution_count": 5
        }
    ]
}