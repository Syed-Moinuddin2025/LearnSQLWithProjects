{
    "metadata": {
        "kernelspec": {
            "name": "SQL",
            "display_name": "SQL",
            "language": "sql"
        },
        "language_info": {
            "name": "sql",
            "version": ""
        }
    },
    "nbformat_minor": 2,
    "nbformat": 4,
    "cells": [
        {
            "cell_type": "markdown",
            "source": [
                "# 🛒 Mini Store Inventory - Basic SQL Queries\n\n",
                "This notebook contains basic SQL queries to explore the `Products` and `Categories` tables in the `Project1_Inventory` database.\n\n",
                "✅ **Topics covered:**\n",
                "- SELECT basics\n",
                "- JOIN queries\n",
                "- Filtering with WHERE\n",
                "- Aggregates (SUM, COUNT, AVG)\n",
                "- Sorting and limits\n\n",
                "---\n",
                "📌 Perfect for beginners learning SQL through real-world inventory data!\n"
            ],
            "metadata": {
                "azdata_cell_guid": "ecb41bd6-b1bc-4102-9d3a-4c53158bc6c1"
            }
        },
        {
            "cell_type": "markdown",
            "source": [
                "## 🔍 Query 1: View all categories"
            ],
            "metadata": {
                "azdata_cell_guid": "bdfc2944-fd6b-4f18-9931-1a4d6e691295"
            }
        },
        {
            "cell_type": "code",
            "source": [
                "USE InventoryDB"
            ],
            "metadata": {
                "azdata_cell_guid": "9d5fdd70-7f8a-4b09-b505-d6f03b07e790",
                "language": "sql"
            },
            "outputs": [
                {
                    "output_type": "display_data",
                    "data": {
                        "text/html": "Commands completed successfully."
                    },
                    "metadata": {}
                },
                {
                    "output_type": "display_data",
                    "data": {
                        "text/html": "Total execution time: 00:00:00"
                    },
                    "metadata": {}
                }
            ],
            "execution_count": 4
        },
        {
            "cell_type": "code",
            "source": [
                "SELECT * FROM Categories;"
            ],
            "metadata": {
                "language": "sql",
                "azdata_cell_guid": "3b46cdf8-c73f-4ea4-839d-32a07fe26e93"
            },
            "outputs": [
                {
                    "output_type": "display_data",
                    "data": {
                        "text/html": "(3 rows affected)"
                    },
                    "metadata": {}
                },
                {
                    "output_type": "display_data",
                    "data": {
                        "text/html": "Total execution time: 00:00:00.004"
                    },
                    "metadata": {}
                },
                {
                    "output_type": "execute_result",
                    "metadata": {},
                    "execution_count": 5,
                    "data": {
                        "application/vnd.dataresource+json": {
                            "schema": {
                                "fields": [
                                    {
                                        "name": "CategoryID"
                                    },
                                    {
                                        "name": "CategoryName"
                                    }
                                ]
                            },
                            "data": [
                                {
                                    "CategoryID": "1",
                                    "CategoryName": "Electronics"
                                },
                                {
                                    "CategoryID": "2",
                                    "CategoryName": "Groceries"
                                },
                                {
                                    "CategoryID": "3",
                                    "CategoryName": "Stationery"
                                }
                            ]
                        },
                        "text/html": [
                            "<table>",
                            "<tr><th>CategoryID</th><th>CategoryName</th></tr>",
                            "<tr><td>1</td><td>Electronics</td></tr>",
                            "<tr><td>2</td><td>Groceries</td></tr>",
                            "<tr><td>3</td><td>Stationery</td></tr>",
                            "</table>"
                        ]
                    }
                }
            ],
            "execution_count": 5
        },
        {
            "cell_type": "markdown",
            "source": [
                "## 🔍 Query 2: View all products"
            ],
            "metadata": {
                "azdata_cell_guid": "b29eccb6-47dc-46c8-80d2-a907f9ee46da"
            }
        },
        {
            "cell_type": "code",
            "source": [
                "SELECT * FROM Products;"
            ],
            "metadata": {
                "language": "sql",
                "azdata_cell_guid": "5cb3aa6b-d387-4a9a-9a0c-d085929dc0b1"
            },
            "outputs": [
                {
                    "output_type": "display_data",
                    "data": {
                        "text/html": "(10 rows affected)"
                    },
                    "metadata": {}
                },
                {
                    "output_type": "display_data",
                    "data": {
                        "text/html": "Total execution time: 00:00:00.003"
                    },
                    "metadata": {}
                },
                {
                    "output_type": "execute_result",
                    "metadata": {},
                    "execution_count": 6,
                    "data": {
                        "application/vnd.dataresource+json": {
                            "schema": {
                                "fields": [
                                    {
                                        "name": "ProductID"
                                    },
                                    {
                                        "name": "ProductName"
                                    },
                                    {
                                        "name": "Price"
                                    },
                                    {
                                        "name": "Quantity"
                                    },
                                    {
                                        "name": "CategoryID"
                                    }
                                ]
                            },
                            "data": [
                                {
                                    "ProductID": "101",
                                    "ProductName": "Laptop",
                                    "Price": "1200.00",
                                    "Quantity": "5",
                                    "CategoryID": "1"
                                },
                                {
                                    "ProductID": "102",
                                    "ProductName": "Smartphone",
                                    "Price": "850.00",
                                    "Quantity": "8",
                                    "CategoryID": "1"
                                },
                                {
                                    "ProductID": "103",
                                    "ProductName": "LED Bulb",
                                    "Price": "2.50",
                                    "Quantity": "100",
                                    "CategoryID": "2"
                                },
                                {
                                    "ProductID": "104",
                                    "ProductName": "Rice (5kg)",
                                    "Price": "15.00",
                                    "Quantity": "20",
                                    "CategoryID": "2"
                                },
                                {
                                    "ProductID": "105",
                                    "ProductName": "Milk Pack",
                                    "Price": "1.20",
                                    "Quantity": "50",
                                    "CategoryID": "2"
                                },
                                {
                                    "ProductID": "106",
                                    "ProductName": "Notebook",
                                    "Price": "1.00",
                                    "Quantity": "75",
                                    "CategoryID": "3"
                                },
                                {
                                    "ProductID": "107",
                                    "ProductName": "Ball Pen",
                                    "Price": "0.50",
                                    "Quantity": "200",
                                    "CategoryID": "3"
                                },
                                {
                                    "ProductID": "108",
                                    "ProductName": "Charger",
                                    "Price": "20.00",
                                    "Quantity": "12",
                                    "CategoryID": "1"
                                },
                                {
                                    "ProductID": "109",
                                    "ProductName": "Sugar (2kg)",
                                    "Price": "3.50",
                                    "Quantity": "25",
                                    "CategoryID": "2"
                                },
                                {
                                    "ProductID": "110",
                                    "ProductName": "Stapler",
                                    "Price": "2.00",
                                    "Quantity": "15",
                                    "CategoryID": "3"
                                }
                            ]
                        },
                        "text/html": [
                            "<table>",
                            "<tr><th>ProductID</th><th>ProductName</th><th>Price</th><th>Quantity</th><th>CategoryID</th></tr>",
                            "<tr><td>101</td><td>Laptop</td><td>1200.00</td><td>5</td><td>1</td></tr>",
                            "<tr><td>102</td><td>Smartphone</td><td>850.00</td><td>8</td><td>1</td></tr>",
                            "<tr><td>103</td><td>LED Bulb</td><td>2.50</td><td>100</td><td>2</td></tr>",
                            "<tr><td>104</td><td>Rice (5kg)</td><td>15.00</td><td>20</td><td>2</td></tr>",
                            "<tr><td>105</td><td>Milk Pack</td><td>1.20</td><td>50</td><td>2</td></tr>",
                            "<tr><td>106</td><td>Notebook</td><td>1.00</td><td>75</td><td>3</td></tr>",
                            "<tr><td>107</td><td>Ball Pen</td><td>0.50</td><td>200</td><td>3</td></tr>",
                            "<tr><td>108</td><td>Charger</td><td>20.00</td><td>12</td><td>1</td></tr>",
                            "<tr><td>109</td><td>Sugar (2kg)</td><td>3.50</td><td>25</td><td>2</td></tr>",
                            "<tr><td>110</td><td>Stapler</td><td>2.00</td><td>15</td><td>3</td></tr>",
                            "</table>"
                        ]
                    }
                }
            ],
            "execution_count": 6
        },
        {
            "cell_type": "markdown",
            "source": [
                "## 🔍 Query 3: List all products with category names"
            ],
            "metadata": {
                "azdata_cell_guid": "dd191388-13dd-4e6d-b1f8-2edf320689c2"
            }
        },
        {
            "cell_type": "code",
            "source": [
                "SELECT \n",
                "    P.ProductID,\n",
                "    P.ProductName,\n",
                "    P.Price,\n",
                "    P.Quantity,\n",
                "    C.CategoryName\n",
                "FROM Products P\n",
                "JOIN Categories C ON P.CategoryID = C.CategoryID;"
            ],
            "metadata": {
                "language": "sql",
                "azdata_cell_guid": "24501b6f-5645-4142-b6cc-f188256a9564"
            },
            "outputs": [
                {
                    "output_type": "display_data",
                    "data": {
                        "text/html": "(10 rows affected)"
                    },
                    "metadata": {}
                },
                {
                    "output_type": "display_data",
                    "data": {
                        "text/html": "Total execution time: 00:00:00.017"
                    },
                    "metadata": {}
                },
                {
                    "output_type": "execute_result",
                    "metadata": {},
                    "execution_count": 7,
                    "data": {
                        "application/vnd.dataresource+json": {
                            "schema": {
                                "fields": [
                                    {
                                        "name": "ProductID"
                                    },
                                    {
                                        "name": "ProductName"
                                    },
                                    {
                                        "name": "Price"
                                    },
                                    {
                                        "name": "Quantity"
                                    },
                                    {
                                        "name": "CategoryName"
                                    }
                                ]
                            },
                            "data": [
                                {
                                    "ProductID": "101",
                                    "ProductName": "Laptop",
                                    "Price": "1200.00",
                                    "Quantity": "5",
                                    "CategoryName": "Electronics"
                                },
                                {
                                    "ProductID": "102",
                                    "ProductName": "Smartphone",
                                    "Price": "850.00",
                                    "Quantity": "8",
                                    "CategoryName": "Electronics"
                                },
                                {
                                    "ProductID": "103",
                                    "ProductName": "LED Bulb",
                                    "Price": "2.50",
                                    "Quantity": "100",
                                    "CategoryName": "Groceries"
                                },
                                {
                                    "ProductID": "104",
                                    "ProductName": "Rice (5kg)",
                                    "Price": "15.00",
                                    "Quantity": "20",
                                    "CategoryName": "Groceries"
                                },
                                {
                                    "ProductID": "105",
                                    "ProductName": "Milk Pack",
                                    "Price": "1.20",
                                    "Quantity": "50",
                                    "CategoryName": "Groceries"
                                },
                                {
                                    "ProductID": "106",
                                    "ProductName": "Notebook",
                                    "Price": "1.00",
                                    "Quantity": "75",
                                    "CategoryName": "Stationery"
                                },
                                {
                                    "ProductID": "107",
                                    "ProductName": "Ball Pen",
                                    "Price": "0.50",
                                    "Quantity": "200",
                                    "CategoryName": "Stationery"
                                },
                                {
                                    "ProductID": "108",
                                    "ProductName": "Charger",
                                    "Price": "20.00",
                                    "Quantity": "12",
                                    "CategoryName": "Electronics"
                                },
                                {
                                    "ProductID": "109",
                                    "ProductName": "Sugar (2kg)",
                                    "Price": "3.50",
                                    "Quantity": "25",
                                    "CategoryName": "Groceries"
                                },
                                {
                                    "ProductID": "110",
                                    "ProductName": "Stapler",
                                    "Price": "2.00",
                                    "Quantity": "15",
                                    "CategoryName": "Stationery"
                                }
                            ]
                        },
                        "text/html": [
                            "<table>",
                            "<tr><th>ProductID</th><th>ProductName</th><th>Price</th><th>Quantity</th><th>CategoryName</th></tr>",
                            "<tr><td>101</td><td>Laptop</td><td>1200.00</td><td>5</td><td>Electronics</td></tr>",
                            "<tr><td>102</td><td>Smartphone</td><td>850.00</td><td>8</td><td>Electronics</td></tr>",
                            "<tr><td>103</td><td>LED Bulb</td><td>2.50</td><td>100</td><td>Groceries</td></tr>",
                            "<tr><td>104</td><td>Rice (5kg)</td><td>15.00</td><td>20</td><td>Groceries</td></tr>",
                            "<tr><td>105</td><td>Milk Pack</td><td>1.20</td><td>50</td><td>Groceries</td></tr>",
                            "<tr><td>106</td><td>Notebook</td><td>1.00</td><td>75</td><td>Stationery</td></tr>",
                            "<tr><td>107</td><td>Ball Pen</td><td>0.50</td><td>200</td><td>Stationery</td></tr>",
                            "<tr><td>108</td><td>Charger</td><td>20.00</td><td>12</td><td>Electronics</td></tr>",
                            "<tr><td>109</td><td>Sugar (2kg)</td><td>3.50</td><td>25</td><td>Groceries</td></tr>",
                            "<tr><td>110</td><td>Stapler</td><td>2.00</td><td>15</td><td>Stationery</td></tr>",
                            "</table>"
                        ]
                    }
                }
            ],
            "execution_count": 7
        },
        {
            "cell_type": "markdown",
            "source": [
                "## 🔍 Query 4. List all products in the 'Electronics' category"
            ],
            "metadata": {
                "language": "sql",
                "azdata_cell_guid": "67be5785-2cc5-4770-bad3-0c6b90e04f25"
            },
            "attachments": {}
        },
        {
            "cell_type": "code",
            "source": [
                "SELECT \r\n",
                "    ProductName, Price, Quantity\r\n",
                "FROM Products\r\n",
                "WHERE CategoryID = 1;"
            ],
            "metadata": {
                "azdata_cell_guid": "45081dc1-43b5-4da4-b884-74843d123a1f",
                "language": "sql"
            },
            "outputs": [
                {
                    "output_type": "display_data",
                    "data": {
                        "text/html": "(3 rows affected)"
                    },
                    "metadata": {}
                },
                {
                    "output_type": "display_data",
                    "data": {
                        "text/html": "Total execution time: 00:00:00.005"
                    },
                    "metadata": {}
                },
                {
                    "output_type": "execute_result",
                    "metadata": {},
                    "execution_count": 8,
                    "data": {
                        "application/vnd.dataresource+json": {
                            "schema": {
                                "fields": [
                                    {
                                        "name": "ProductName"
                                    },
                                    {
                                        "name": "Price"
                                    },
                                    {
                                        "name": "Quantity"
                                    }
                                ]
                            },
                            "data": [
                                {
                                    "ProductName": "Laptop",
                                    "Price": "1200.00",
                                    "Quantity": "5"
                                },
                                {
                                    "ProductName": "Smartphone",
                                    "Price": "850.00",
                                    "Quantity": "8"
                                },
                                {
                                    "ProductName": "Charger",
                                    "Price": "20.00",
                                    "Quantity": "12"
                                }
                            ]
                        },
                        "text/html": [
                            "<table>",
                            "<tr><th>ProductName</th><th>Price</th><th>Quantity</th></tr>",
                            "<tr><td>Laptop</td><td>1200.00</td><td>5</td></tr>",
                            "<tr><td>Smartphone</td><td>850.00</td><td>8</td></tr>",
                            "<tr><td>Charger</td><td>20.00</td><td>12</td></tr>",
                            "</table>"
                        ]
                    }
                }
            ],
            "execution_count": 8
        },
        {
            "cell_type": "markdown",
            "source": [
                "## 🔍 Query 5. Show products with quantity less than 20 (Low stock)"
            ],
            "metadata": {
                "language": "sql",
                "azdata_cell_guid": "d6a199bd-0f1d-4cdc-9a51-cf605d7eecf1"
            },
            "attachments": {}
        },
        {
            "cell_type": "code",
            "source": [
                "SELECT \r\n",
                "    ProductName, Quantity\r\n",
                "FROM  Products\r\n",
                "WHERE Quantity <20 "
            ],
            "metadata": {
                "language": "sql",
                "azdata_cell_guid": "731eca7c-8c9e-4886-8774-d405e1d5387e",
                "tags": []
            },
            "outputs": [
                {
                    "output_type": "display_data",
                    "data": {
                        "text/html": "(4 rows affected)"
                    },
                    "metadata": {}
                },
                {
                    "output_type": "display_data",
                    "data": {
                        "text/html": "Total execution time: 00:00:00.004"
                    },
                    "metadata": {}
                },
                {
                    "output_type": "execute_result",
                    "metadata": {},
                    "execution_count": 9,
                    "data": {
                        "application/vnd.dataresource+json": {
                            "schema": {
                                "fields": [
                                    {
                                        "name": "ProductName"
                                    },
                                    {
                                        "name": "Quantity"
                                    }
                                ]
                            },
                            "data": [
                                {
                                    "ProductName": "Laptop",
                                    "Quantity": "5"
                                },
                                {
                                    "ProductName": "Smartphone",
                                    "Quantity": "8"
                                },
                                {
                                    "ProductName": "Charger",
                                    "Quantity": "12"
                                },
                                {
                                    "ProductName": "Stapler",
                                    "Quantity": "15"
                                }
                            ]
                        },
                        "text/html": [
                            "<table>",
                            "<tr><th>ProductName</th><th>Quantity</th></tr>",
                            "<tr><td>Laptop</td><td>5</td></tr>",
                            "<tr><td>Smartphone</td><td>8</td></tr>",
                            "<tr><td>Charger</td><td>12</td></tr>",
                            "<tr><td>Stapler</td><td>15</td></tr>",
                            "</table>"
                        ]
                    }
                }
            ],
            "execution_count": 9
        },
        {
            "cell_type": "markdown",
            "source": [
                "## 🔍 Query 6 Calculate total number of products in inventory"
            ],
            "metadata": {
                "language": "sql",
                "azdata_cell_guid": "2a68a9a7-08eb-42df-8b5d-196f3b60b8ed"
            },
            "attachments": {}
        },
        {
            "cell_type": "code",
            "source": [
                "SELECT COUNT(*) AS TotalProducts FROM dbo.Products;\r\n",
                ""
            ],
            "metadata": {
                "language": "sql",
                "azdata_cell_guid": "85b4ecda-595e-4ddc-8274-0803bd4a86d9"
            },
            "outputs": [
                {
                    "output_type": "display_data",
                    "data": {
                        "text/html": "(1 row affected)"
                    },
                    "metadata": {}
                },
                {
                    "output_type": "display_data",
                    "data": {
                        "text/html": "Total execution time: 00:00:00.004"
                    },
                    "metadata": {}
                },
                {
                    "output_type": "execute_result",
                    "metadata": {},
                    "execution_count": 10,
                    "data": {
                        "application/vnd.dataresource+json": {
                            "schema": {
                                "fields": [
                                    {
                                        "name": "TotalProducts"
                                    }
                                ]
                            },
                            "data": [
                                {
                                    "TotalProducts": "10"
                                }
                            ]
                        },
                        "text/html": [
                            "<table>",
                            "<tr><th>TotalProducts</th></tr>",
                            "<tr><td>10</td></tr>",
                            "</table>"
                        ]
                    }
                }
            ],
            "execution_count": 10
        },
        {
            "cell_type": "markdown",
            "source": [
                "## 🔍 Query 7. Calculate total inventory stock (sum of quantities)"
            ],
            "metadata": {
                "language": "sql",
                "azdata_cell_guid": "82b042a3-1e89-4efb-90eb-b07202e895e9"
            },
            "attachments": {}
        },
        {
            "cell_type": "code",
            "source": [
                "SELECT SUM(Quantity) AS TotalUnitsInStock FROM Products;"
            ],
            "metadata": {
                "language": "sql",
                "azdata_cell_guid": "20dfc84b-cf70-4c22-be73-08aa264d8bc5"
            },
            "outputs": [
                {
                    "output_type": "display_data",
                    "data": {
                        "text/html": "(1 row affected)"
                    },
                    "metadata": {}
                },
                {
                    "output_type": "display_data",
                    "data": {
                        "text/html": "Total execution time: 00:00:00.004"
                    },
                    "metadata": {}
                },
                {
                    "output_type": "execute_result",
                    "metadata": {},
                    "execution_count": 11,
                    "data": {
                        "application/vnd.dataresource+json": {
                            "schema": {
                                "fields": [
                                    {
                                        "name": "TotalUnitsInStock"
                                    }
                                ]
                            },
                            "data": [
                                {
                                    "TotalUnitsInStock": "510"
                                }
                            ]
                        },
                        "text/html": [
                            "<table>",
                            "<tr><th>TotalUnitsInStock</th></tr>",
                            "<tr><td>510</td></tr>",
                            "</table>"
                        ]
                    }
                }
            ],
            "execution_count": 11
        },
        {
            "cell_type": "markdown",
            "source": [
                "## 🔍 Query 8. Calculate total inventory value (Price × Quantity)"
            ],
            "metadata": {
                "language": "sql",
                "azdata_cell_guid": "8449619e-037c-48b8-b849-2d33dd2f6904"
            },
            "attachments": {}
        },
        {
            "cell_type": "code",
            "source": [
                "SELECT \r\n",
                "    SUM(Price * Quantity) AS TotalInventoryValue\r\n",
                "FROM Products;"
            ],
            "metadata": {
                "language": "sql",
                "azdata_cell_guid": "896d045d-ce68-4239-8ae9-8e4f752c0aa5"
            },
            "outputs": [
                {
                    "output_type": "display_data",
                    "data": {
                        "text/html": "(1 row affected)"
                    },
                    "metadata": {}
                },
                {
                    "output_type": "display_data",
                    "data": {
                        "text/html": "Total execution time: 00:00:00.004"
                    },
                    "metadata": {}
                },
                {
                    "output_type": "execute_result",
                    "metadata": {},
                    "execution_count": 12,
                    "data": {
                        "application/vnd.dataresource+json": {
                            "schema": {
                                "fields": [
                                    {
                                        "name": "TotalInventoryValue"
                                    }
                                ]
                            },
                            "data": [
                                {
                                    "TotalInventoryValue": "13942.50"
                                }
                            ]
                        },
                        "text/html": [
                            "<table>",
                            "<tr><th>TotalInventoryValue</th></tr>",
                            "<tr><td>13942.50</td></tr>",
                            "</table>"
                        ]
                    }
                }
            ],
            "execution_count": 12
        },
        {
            "cell_type": "markdown",
            "source": [
                "## 🔍 Qurey  9. Show average price of all products"
            ],
            "metadata": {
                "language": "",
                "azdata_cell_guid": "65974511-9252-49e7-af41-31e076f58bfa"
            },
            "attachments": {}
        },
        {
            "cell_type": "code",
            "source": [
                "SELECT AVG(Price) AS AverageProductPrice FROM Products;"
            ],
            "metadata": {
                "azdata_cell_guid": "e75b3bf2-2f3b-4d0c-aaa0-65e0266d9d46",
                "language": "sql"
            },
            "outputs": [
                {
                    "output_type": "display_data",
                    "data": {
                        "text/html": "(1 row affected)"
                    },
                    "metadata": {}
                },
                {
                    "output_type": "display_data",
                    "data": {
                        "text/html": "Total execution time: 00:00:00.003"
                    },
                    "metadata": {}
                },
                {
                    "output_type": "execute_result",
                    "metadata": {},
                    "execution_count": 13,
                    "data": {
                        "application/vnd.dataresource+json": {
                            "schema": {
                                "fields": [
                                    {
                                        "name": "AverageProductPrice"
                                    }
                                ]
                            },
                            "data": [
                                {
                                    "AverageProductPrice": "209.570000"
                                }
                            ]
                        },
                        "text/html": [
                            "<table>",
                            "<tr><th>AverageProductPrice</th></tr>",
                            "<tr><td>209.570000</td></tr>",
                            "</table>"
                        ]
                    }
                }
            ],
            "execution_count": 13
        },
        {
            "cell_type": "markdown",
            "source": [
                "## 🔍 Query 10. Show the most expensive product"
            ],
            "metadata": {
                "language": "sql",
                "azdata_cell_guid": "5531569c-531f-4036-a5f9-aad2f886fe8a"
            },
            "attachments": {}
        },
        {
            "cell_type": "code",
            "source": [
                "SELECT TOP 1 *\r\n",
                "FROM Products\r\n",
                "ORDER BY Price DESC;"
            ],
            "metadata": {
                "language": "sql",
                "azdata_cell_guid": "33f03cb2-b5a6-44de-b610-711f7278d950"
            },
            "outputs": [
                {
                    "output_type": "display_data",
                    "data": {
                        "text/html": "(1 row affected)"
                    },
                    "metadata": {}
                },
                {
                    "output_type": "display_data",
                    "data": {
                        "text/html": "Total execution time: 00:00:00.005"
                    },
                    "metadata": {}
                },
                {
                    "output_type": "execute_result",
                    "metadata": {},
                    "execution_count": 14,
                    "data": {
                        "application/vnd.dataresource+json": {
                            "schema": {
                                "fields": [
                                    {
                                        "name": "ProductID"
                                    },
                                    {
                                        "name": "ProductName"
                                    },
                                    {
                                        "name": "Price"
                                    },
                                    {
                                        "name": "Quantity"
                                    },
                                    {
                                        "name": "CategoryID"
                                    }
                                ]
                            },
                            "data": [
                                {
                                    "ProductID": "101",
                                    "ProductName": "Laptop",
                                    "Price": "1200.00",
                                    "Quantity": "5",
                                    "CategoryID": "1"
                                }
                            ]
                        },
                        "text/html": [
                            "<table>",
                            "<tr><th>ProductID</th><th>ProductName</th><th>Price</th><th>Quantity</th><th>CategoryID</th></tr>",
                            "<tr><td>101</td><td>Laptop</td><td>1200.00</td><td>5</td><td>1</td></tr>",
                            "</table>"
                        ]
                    }
                }
            ],
            "execution_count": 14
        },
        {
            "cell_type": "markdown",
            "source": [
                "## 🔍 Qurey 11. Show products grouped by category with total quantity per category"
            ],
            "metadata": {
                "language": "sql",
                "azdata_cell_guid": "ecdc3747-d52e-41c8-adfb-32f4b9b8e6d0"
            },
            "attachments": {}
        },
        {
            "cell_type": "code",
            "source": [
                "SELECT \r\n",
                "    C.CategoryName,\r\n",
                "    SUM(P.Quantity) AS TotalUnits\r\n",
                "FROM Products P\r\n",
                "JOIN Categories C ON P.CategoryID = C.CategoryID\r\n",
                "GROUP BY C.CategoryName;"
            ],
            "metadata": {
                "language": "sql",
                "azdata_cell_guid": "2e1f338f-62c8-40af-99cc-e8b2b1c551a2"
            },
            "outputs": [
                {
                    "output_type": "display_data",
                    "data": {
                        "text/html": "(3 rows affected)"
                    },
                    "metadata": {}
                },
                {
                    "output_type": "display_data",
                    "data": {
                        "text/html": "Total execution time: 00:00:00.005"
                    },
                    "metadata": {}
                },
                {
                    "output_type": "execute_result",
                    "metadata": {},
                    "execution_count": 15,
                    "data": {
                        "application/vnd.dataresource+json": {
                            "schema": {
                                "fields": [
                                    {
                                        "name": "CategoryName"
                                    },
                                    {
                                        "name": "TotalUnits"
                                    }
                                ]
                            },
                            "data": [
                                {
                                    "CategoryName": "Electronics",
                                    "TotalUnits": "25"
                                },
                                {
                                    "CategoryName": "Groceries",
                                    "TotalUnits": "195"
                                },
                                {
                                    "CategoryName": "Stationery",
                                    "TotalUnits": "290"
                                }
                            ]
                        },
                        "text/html": [
                            "<table>",
                            "<tr><th>CategoryName</th><th>TotalUnits</th></tr>",
                            "<tr><td>Electronics</td><td>25</td></tr>",
                            "<tr><td>Groceries</td><td>195</td></tr>",
                            "<tr><td>Stationery</td><td>290</td></tr>",
                            "</table>"
                        ]
                    }
                }
            ],
            "execution_count": 15
        },
        {
            "cell_type": "markdown",
            "source": [
                "## 🔍 12. Show how many products are in each category"
            ],
            "metadata": {
                "language": "sql",
                "azdata_cell_guid": "abf49d97-5649-4fd7-9ac5-a8afa0193ed2"
            },
            "attachments": {}
        },
        {
            "cell_type": "code",
            "source": [
                "SELECT \r\n",
                "    C.CategoryName,\r\n",
                "    COUNT(P.ProductID) AS NumberOfProducts\r\n",
                "FROM Products P\r\n",
                "JOIN Categories C ON P.CategoryID = C.CategoryID\r\n",
                "GROUP BY C.CategoryName;"
            ],
            "metadata": {
                "language": "sql",
                "azdata_cell_guid": "d83b455d-4f63-4cb5-bdb9-21e99e6f6a93"
            },
            "outputs": [
                {
                    "output_type": "display_data",
                    "data": {
                        "text/html": "(3 rows affected)"
                    },
                    "metadata": {}
                },
                {
                    "output_type": "display_data",
                    "data": {
                        "text/html": "Total execution time: 00:00:00.005"
                    },
                    "metadata": {}
                },
                {
                    "output_type": "execute_result",
                    "metadata": {},
                    "execution_count": 16,
                    "data": {
                        "application/vnd.dataresource+json": {
                            "schema": {
                                "fields": [
                                    {
                                        "name": "CategoryName"
                                    },
                                    {
                                        "name": "NumberOfProducts"
                                    }
                                ]
                            },
                            "data": [
                                {
                                    "CategoryName": "Electronics",
                                    "NumberOfProducts": "3"
                                },
                                {
                                    "CategoryName": "Groceries",
                                    "NumberOfProducts": "4"
                                },
                                {
                                    "CategoryName": "Stationery",
                                    "NumberOfProducts": "3"
                                }
                            ]
                        },
                        "text/html": [
                            "<table>",
                            "<tr><th>CategoryName</th><th>NumberOfProducts</th></tr>",
                            "<tr><td>Electronics</td><td>3</td></tr>",
                            "<tr><td>Groceries</td><td>4</td></tr>",
                            "<tr><td>Stationery</td><td>3</td></tr>",
                            "</table>"
                        ]
                    }
                }
            ],
            "execution_count": 16
        },
        {
            "cell_type": "markdown",
            "source": [
                "## 🔍 13. Show the cheapest product in each category"
            ],
            "metadata": {
                "language": "sql",
                "azdata_cell_guid": "0c3006e5-04ca-4b6c-a120-53800563255a"
            },
            "attachments": {}
        },
        {
            "cell_type": "code",
            "source": [
                "SELECT \r\n",
                "    C.CategoryName,\r\n",
                "    MIN(P.Price) AS CheapestPrice\r\n",
                "FROM Products P\r\n",
                "JOIN Categories C ON P.CategoryID = C.CategoryID\r\n",
                "GROUP BY C.CategoryName;"
            ],
            "metadata": {
                "language": "sql",
                "azdata_cell_guid": "e3270ee2-334e-4ae5-8683-f8d7934f2e15"
            },
            "outputs": [
                {
                    "output_type": "display_data",
                    "data": {
                        "text/html": "(3 rows affected)"
                    },
                    "metadata": {}
                },
                {
                    "output_type": "display_data",
                    "data": {
                        "text/html": "Total execution time: 00:00:00.005"
                    },
                    "metadata": {}
                },
                {
                    "output_type": "execute_result",
                    "metadata": {},
                    "execution_count": 17,
                    "data": {
                        "application/vnd.dataresource+json": {
                            "schema": {
                                "fields": [
                                    {
                                        "name": "CategoryName"
                                    },
                                    {
                                        "name": "CheapestPrice"
                                    }
                                ]
                            },
                            "data": [
                                {
                                    "CategoryName": "Electronics",
                                    "CheapestPrice": "20.00"
                                },
                                {
                                    "CategoryName": "Groceries",
                                    "CheapestPrice": "1.20"
                                },
                                {
                                    "CategoryName": "Stationery",
                                    "CheapestPrice": "0.50"
                                }
                            ]
                        },
                        "text/html": [
                            "<table>",
                            "<tr><th>CategoryName</th><th>CheapestPrice</th></tr>",
                            "<tr><td>Electronics</td><td>20.00</td></tr>",
                            "<tr><td>Groceries</td><td>1.20</td></tr>",
                            "<tr><td>Stationery</td><td>0.50</td></tr>",
                            "</table>"
                        ]
                    }
                }
            ],
            "execution_count": 17
        },
        {
            "cell_type": "markdown",
            "source": [
                "🔍 14. Show only the products that are out of stock (quantity = 0)"
            ],
            "metadata": {
                "language": "sql",
                "azdata_cell_guid": "f4ec9614-95bb-494d-81f8-076539076bf2"
            },
            "attachments": {}
        },
        {
            "cell_type": "code",
            "source": [
                "SELECT \r\n",
                "    ProductName\r\n",
                "FROM Products\r\n",
                "WHERE Quantity = 0;"
            ],
            "metadata": {
                "language": "sql",
                "azdata_cell_guid": "5323b8ac-52e1-414d-b204-77093fd29af0"
            },
            "outputs": [
                {
                    "output_type": "display_data",
                    "data": {
                        "text/html": "(0 rows affected)"
                    },
                    "metadata": {}
                },
                {
                    "output_type": "display_data",
                    "data": {
                        "text/html": "Total execution time: 00:00:00.002"
                    },
                    "metadata": {}
                },
                {
                    "output_type": "execute_result",
                    "metadata": {},
                    "execution_count": 18,
                    "data": {
                        "application/vnd.dataresource+json": {
                            "schema": {
                                "fields": [
                                    {
                                        "name": "ProductName"
                                    }
                                ]
                            },
                            "data": []
                        },
                        "text/html": [
                            "<table>",
                            "<tr><th>ProductName</th></tr>",
                            "</table>"
                        ]
                    }
                }
            ],
            "execution_count": 18
        },
        {
            "cell_type": "markdown",
            "source": [
                "## 🔍 15. Show top 3 most expensive products"
            ],
            "metadata": {
                "language": "sql",
                "azdata_cell_guid": "8dfecd9f-054b-4a34-9803-054cdb33b3e4"
            },
            "attachments": {}
        },
        {
            "cell_type": "code",
            "source": [
                "SELECT TOP 3 \r\n",
                "    ProductName, Price\r\n",
                "FROM Products\r\n",
                "ORDER BY Price DESC;"
            ],
            "metadata": {
                "language": "sql",
                "azdata_cell_guid": "7a594369-10bd-4057-a17c-e27380b68bfd"
            },
            "outputs": [
                {
                    "output_type": "display_data",
                    "data": {
                        "text/html": "(3 rows affected)"
                    },
                    "metadata": {}
                },
                {
                    "output_type": "display_data",
                    "data": {
                        "text/html": "Total execution time: 00:00:00.004"
                    },
                    "metadata": {}
                },
                {
                    "output_type": "execute_result",
                    "metadata": {},
                    "execution_count": 19,
                    "data": {
                        "application/vnd.dataresource+json": {
                            "schema": {
                                "fields": [
                                    {
                                        "name": "ProductName"
                                    },
                                    {
                                        "name": "Price"
                                    }
                                ]
                            },
                            "data": [
                                {
                                    "ProductName": "Laptop",
                                    "Price": "1200.00"
                                },
                                {
                                    "ProductName": "Smartphone",
                                    "Price": "850.00"
                                },
                                {
                                    "ProductName": "Charger",
                                    "Price": "20.00"
                                }
                            ]
                        },
                        "text/html": [
                            "<table>",
                            "<tr><th>ProductName</th><th>Price</th></tr>",
                            "<tr><td>Laptop</td><td>1200.00</td></tr>",
                            "<tr><td>Smartphone</td><td>850.00</td></tr>",
                            "<tr><td>Charger</td><td>20.00</td></tr>",
                            "</table>"
                        ]
                    }
                }
            ],
            "execution_count": 19
        },
        {
            "cell_type": "markdown",
            "source": [
                "## 🔍 16. Show all products with total value (Price × Quantity) per product"
            ],
            "metadata": {
                "language": "sql",
                "azdata_cell_guid": "fe311ee6-5681-4ae9-bee8-56e791e9d0cb"
            },
            "attachments": {}
        },
        {
            "cell_type": "code",
            "source": [
                "SELECT \r\n",
                "    ProductID,\r\n",
                "    ProductName,\r\n",
                "    Price,\r\n",
                "    Quantity,\r\n",
                "    (Price * Quantity) AS TotalValue\r\n",
                "FROM Products;\r\n",
                ""
            ],
            "metadata": {
                "language": "sql",
                "azdata_cell_guid": "f5d43d78-8a9e-4b06-9794-1bfe36478668"
            },
            "outputs": [
                {
                    "output_type": "display_data",
                    "data": {
                        "text/html": "(10 rows affected)"
                    },
                    "metadata": {}
                },
                {
                    "output_type": "display_data",
                    "data": {
                        "text/html": "Total execution time: 00:00:00.009"
                    },
                    "metadata": {}
                },
                {
                    "output_type": "execute_result",
                    "metadata": {},
                    "execution_count": 20,
                    "data": {
                        "application/vnd.dataresource+json": {
                            "schema": {
                                "fields": [
                                    {
                                        "name": "ProductID"
                                    },
                                    {
                                        "name": "ProductName"
                                    },
                                    {
                                        "name": "Price"
                                    },
                                    {
                                        "name": "Quantity"
                                    },
                                    {
                                        "name": "TotalValue"
                                    }
                                ]
                            },
                            "data": [
                                {
                                    "ProductID": "101",
                                    "ProductName": "Laptop",
                                    "Price": "1200.00",
                                    "Quantity": "5",
                                    "TotalValue": "6000.00"
                                },
                                {
                                    "ProductID": "102",
                                    "ProductName": "Smartphone",
                                    "Price": "850.00",
                                    "Quantity": "8",
                                    "TotalValue": "6800.00"
                                },
                                {
                                    "ProductID": "103",
                                    "ProductName": "LED Bulb",
                                    "Price": "2.50",
                                    "Quantity": "100",
                                    "TotalValue": "250.00"
                                },
                                {
                                    "ProductID": "104",
                                    "ProductName": "Rice (5kg)",
                                    "Price": "15.00",
                                    "Quantity": "20",
                                    "TotalValue": "300.00"
                                },
                                {
                                    "ProductID": "105",
                                    "ProductName": "Milk Pack",
                                    "Price": "1.20",
                                    "Quantity": "50",
                                    "TotalValue": "60.00"
                                },
                                {
                                    "ProductID": "106",
                                    "ProductName": "Notebook",
                                    "Price": "1.00",
                                    "Quantity": "75",
                                    "TotalValue": "75.00"
                                },
                                {
                                    "ProductID": "107",
                                    "ProductName": "Ball Pen",
                                    "Price": "0.50",
                                    "Quantity": "200",
                                    "TotalValue": "100.00"
                                },
                                {
                                    "ProductID": "108",
                                    "ProductName": "Charger",
                                    "Price": "20.00",
                                    "Quantity": "12",
                                    "TotalValue": "240.00"
                                },
                                {
                                    "ProductID": "109",
                                    "ProductName": "Sugar (2kg)",
                                    "Price": "3.50",
                                    "Quantity": "25",
                                    "TotalValue": "87.50"
                                },
                                {
                                    "ProductID": "110",
                                    "ProductName": "Stapler",
                                    "Price": "2.00",
                                    "Quantity": "15",
                                    "TotalValue": "30.00"
                                }
                            ]
                        },
                        "text/html": [
                            "<table>",
                            "<tr><th>ProductID</th><th>ProductName</th><th>Price</th><th>Quantity</th><th>TotalValue</th></tr>",
                            "<tr><td>101</td><td>Laptop</td><td>1200.00</td><td>5</td><td>6000.00</td></tr>",
                            "<tr><td>102</td><td>Smartphone</td><td>850.00</td><td>8</td><td>6800.00</td></tr>",
                            "<tr><td>103</td><td>LED Bulb</td><td>2.50</td><td>100</td><td>250.00</td></tr>",
                            "<tr><td>104</td><td>Rice (5kg)</td><td>15.00</td><td>20</td><td>300.00</td></tr>",
                            "<tr><td>105</td><td>Milk Pack</td><td>1.20</td><td>50</td><td>60.00</td></tr>",
                            "<tr><td>106</td><td>Notebook</td><td>1.00</td><td>75</td><td>75.00</td></tr>",
                            "<tr><td>107</td><td>Ball Pen</td><td>0.50</td><td>200</td><td>100.00</td></tr>",
                            "<tr><td>108</td><td>Charger</td><td>20.00</td><td>12</td><td>240.00</td></tr>",
                            "<tr><td>109</td><td>Sugar (2kg)</td><td>3.50</td><td>25</td><td>87.50</td></tr>",
                            "<tr><td>110</td><td>Stapler</td><td>2.00</td><td>15</td><td>30.00</td></tr>",
                            "</table>"
                        ]
                    }
                }
            ],
            "execution_count": 20
        },
        {
            "cell_type": "markdown",
            "source": [
                "## 🔍 17. List categories that have more than 2 products"
            ],
            "metadata": {
                "language": "sql",
                "azdata_cell_guid": "6b0fbdd7-4e87-4689-b7f2-82bf9a2df10b"
            },
            "attachments": {}
        },
        {
            "cell_type": "code",
            "source": [
                "SELECT \r\n",
                "    C.CategoryName,\r\n",
                "    COUNT(P.ProductID) AS ProductCount\r\n",
                "FROM Products P\r\n",
                "JOIN Categories C ON P.CategoryID = C.CategoryID\r\n",
                "GROUP BY C.CategoryName\r\n",
                "HAVING COUNT(P.ProductID) > 2;"
            ],
            "metadata": {
                "language": "sql",
                "azdata_cell_guid": "9a636361-fe24-4ac0-a070-d96e1b272389"
            },
            "outputs": [
                {
                    "output_type": "display_data",
                    "data": {
                        "text/html": "(3 rows affected)"
                    },
                    "metadata": {}
                },
                {
                    "output_type": "display_data",
                    "data": {
                        "text/html": "Total execution time: 00:00:00.005"
                    },
                    "metadata": {}
                },
                {
                    "output_type": "execute_result",
                    "metadata": {},
                    "execution_count": 21,
                    "data": {
                        "application/vnd.dataresource+json": {
                            "schema": {
                                "fields": [
                                    {
                                        "name": "CategoryName"
                                    },
                                    {
                                        "name": "ProductCount"
                                    }
                                ]
                            },
                            "data": [
                                {
                                    "CategoryName": "Electronics",
                                    "ProductCount": "3"
                                },
                                {
                                    "CategoryName": "Groceries",
                                    "ProductCount": "4"
                                },
                                {
                                    "CategoryName": "Stationery",
                                    "ProductCount": "3"
                                }
                            ]
                        },
                        "text/html": [
                            "<table>",
                            "<tr><th>CategoryName</th><th>ProductCount</th></tr>",
                            "<tr><td>Electronics</td><td>3</td></tr>",
                            "<tr><td>Groceries</td><td>4</td></tr>",
                            "<tr><td>Stationery</td><td>3</td></tr>",
                            "</table>"
                        ]
                    }
                }
            ],
            "execution_count": 21
        },
        {
            "cell_type": "markdown",
            "source": [
                "## 🔍 18. Find the category with the highest total inventory value"
            ],
            "metadata": {
                "language": "sql",
                "azdata_cell_guid": "8ae6d39f-0409-494f-981d-36e92f76c03f"
            },
            "attachments": {}
        },
        {
            "cell_type": "code",
            "source": [
                "SELECT TOP 1 \r\n",
                "    C.CategoryName,\r\n",
                "    SUM(P.Price * P.Quantity) AS InventoryValue\r\n",
                "FROM Products P\r\n",
                "JOIN Categories C ON P.CategoryID = C.CategoryID\r\n",
                "GROUP BY C.CategoryName\r\n",
                "ORDER BY InventoryValue DESC;"
            ],
            "metadata": {
                "language": "sql",
                "azdata_cell_guid": "0e5af092-2904-474f-8418-3ab11f693d5d"
            },
            "outputs": [
                {
                    "output_type": "display_data",
                    "data": {
                        "text/html": "(1 row affected)"
                    },
                    "metadata": {}
                },
                {
                    "output_type": "display_data",
                    "data": {
                        "text/html": "Total execution time: 00:00:00.006"
                    },
                    "metadata": {}
                },
                {
                    "output_type": "execute_result",
                    "metadata": {},
                    "execution_count": 22,
                    "data": {
                        "application/vnd.dataresource+json": {
                            "schema": {
                                "fields": [
                                    {
                                        "name": "CategoryName"
                                    },
                                    {
                                        "name": "InventoryValue"
                                    }
                                ]
                            },
                            "data": [
                                {
                                    "CategoryName": "Electronics",
                                    "InventoryValue": "13040.00"
                                }
                            ]
                        },
                        "text/html": [
                            "<table>",
                            "<tr><th>CategoryName</th><th>InventoryValue</th></tr>",
                            "<tr><td>Electronics</td><td>13040.00</td></tr>",
                            "</table>"
                        ]
                    }
                }
            ],
            "execution_count": 22
        },
        {
            "cell_type": "markdown",
            "source": [
                "## 🔍 19. Show all products sorted alphabetically (A–Z)"
            ],
            "metadata": {
                "language": "sql",
                "azdata_cell_guid": "5ad5467e-4777-4b09-bbea-d89f48916c9e"
            },
            "attachments": {}
        },
        {
            "cell_type": "code",
            "source": [
                "SELECT \r\n",
                "    ProductName,\r\n",
                "    Price,\r\n",
                "    Quantity\r\n",
                "FROM Products\r\n",
                "ORDER BY ProductName ASC;"
            ],
            "metadata": {
                "language": "sql",
                "azdata_cell_guid": "618c2b9e-e327-4bd9-a7bc-06fdcecbd79b"
            },
            "outputs": [
                {
                    "output_type": "display_data",
                    "data": {
                        "text/html": "(10 rows affected)"
                    },
                    "metadata": {}
                },
                {
                    "output_type": "display_data",
                    "data": {
                        "text/html": "Total execution time: 00:00:00.004"
                    },
                    "metadata": {}
                },
                {
                    "output_type": "execute_result",
                    "metadata": {},
                    "execution_count": 23,
                    "data": {
                        "application/vnd.dataresource+json": {
                            "schema": {
                                "fields": [
                                    {
                                        "name": "ProductName"
                                    },
                                    {
                                        "name": "Price"
                                    },
                                    {
                                        "name": "Quantity"
                                    }
                                ]
                            },
                            "data": [
                                {
                                    "ProductName": "Ball Pen",
                                    "Price": "0.50",
                                    "Quantity": "200"
                                },
                                {
                                    "ProductName": "Charger",
                                    "Price": "20.00",
                                    "Quantity": "12"
                                },
                                {
                                    "ProductName": "Laptop",
                                    "Price": "1200.00",
                                    "Quantity": "5"
                                },
                                {
                                    "ProductName": "LED Bulb",
                                    "Price": "2.50",
                                    "Quantity": "100"
                                },
                                {
                                    "ProductName": "Milk Pack",
                                    "Price": "1.20",
                                    "Quantity": "50"
                                },
                                {
                                    "ProductName": "Notebook",
                                    "Price": "1.00",
                                    "Quantity": "75"
                                },
                                {
                                    "ProductName": "Rice (5kg)",
                                    "Price": "15.00",
                                    "Quantity": "20"
                                },
                                {
                                    "ProductName": "Smartphone",
                                    "Price": "850.00",
                                    "Quantity": "8"
                                },
                                {
                                    "ProductName": "Stapler",
                                    "Price": "2.00",
                                    "Quantity": "15"
                                },
                                {
                                    "ProductName": "Sugar (2kg)",
                                    "Price": "3.50",
                                    "Quantity": "25"
                                }
                            ]
                        },
                        "text/html": [
                            "<table>",
                            "<tr><th>ProductName</th><th>Price</th><th>Quantity</th></tr>",
                            "<tr><td>Ball Pen</td><td>0.50</td><td>200</td></tr>",
                            "<tr><td>Charger</td><td>20.00</td><td>12</td></tr>",
                            "<tr><td>Laptop</td><td>1200.00</td><td>5</td></tr>",
                            "<tr><td>LED Bulb</td><td>2.50</td><td>100</td></tr>",
                            "<tr><td>Milk Pack</td><td>1.20</td><td>50</td></tr>",
                            "<tr><td>Notebook</td><td>1.00</td><td>75</td></tr>",
                            "<tr><td>Rice (5kg)</td><td>15.00</td><td>20</td></tr>",
                            "<tr><td>Smartphone</td><td>850.00</td><td>8</td></tr>",
                            "<tr><td>Stapler</td><td>2.00</td><td>15</td></tr>",
                            "<tr><td>Sugar (2kg)</td><td>3.50</td><td>25</td></tr>",
                            "</table>"
                        ]
                    }
                }
            ],
            "execution_count": 23
        },
        {
            "cell_type": "markdown",
            "source": [
                "## 🔍 20. Show products that cost more than the average price"
            ],
            "metadata": {
                "language": "sql",
                "azdata_cell_guid": "a8ec40aa-fcfb-40cf-9134-aa86a448fd03"
            },
            "attachments": {}
        },
        {
            "cell_type": "code",
            "source": [
                "SELECT \r\n",
                "    ProductName,\r\n",
                "    Price\r\n",
                "FROM Products\r\n",
                "WHERE Price > (SELECT AVG(Price) FROM Products);"
            ],
            "metadata": {
                "language": "sql",
                "azdata_cell_guid": "b8891a2f-79fe-434f-a550-3765083d1b6a"
            },
            "outputs": [
                {
                    "output_type": "display_data",
                    "data": {
                        "text/html": "(2 rows affected)"
                    },
                    "metadata": {}
                },
                {
                    "output_type": "display_data",
                    "data": {
                        "text/html": "Total execution time: 00:00:00.005"
                    },
                    "metadata": {}
                },
                {
                    "output_type": "execute_result",
                    "metadata": {},
                    "execution_count": 24,
                    "data": {
                        "application/vnd.dataresource+json": {
                            "schema": {
                                "fields": [
                                    {
                                        "name": "ProductName"
                                    },
                                    {
                                        "name": "Price"
                                    }
                                ]
                            },
                            "data": [
                                {
                                    "ProductName": "Laptop",
                                    "Price": "1200.00"
                                },
                                {
                                    "ProductName": "Smartphone",
                                    "Price": "850.00"
                                }
                            ]
                        },
                        "text/html": [
                            "<table>",
                            "<tr><th>ProductName</th><th>Price</th></tr>",
                            "<tr><td>Laptop</td><td>1200.00</td></tr>",
                            "<tr><td>Smartphone</td><td>850.00</td></tr>",
                            "</table>"
                        ]
                    }
                }
            ],
            "execution_count": 24
        }
    ]
}