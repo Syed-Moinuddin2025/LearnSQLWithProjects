{
    "metadata": {
        "kernelspec": {
            "name": "SQL",
            "display_name": "SQL",
            "language": "sql"
        },
        "language_info": {
            "name": "sql",
            "version": ""
        }
    },
    "nbformat_minor": 2,
    "nbformat": 4,
    "cells": [
        {
            "cell_type": "code",
            "source": [
                "--CREATE TABLE Departments (\r\n",
                "    DepartmentID INT PRIMARY KEY,\r\n",
                "    DepartmentName NVARCHAR(100) NOT NULL\r\n",
                ");\r\n",
                "\r\n",
                "-- JobTitles Table\r\n",
                "CREATE TABLE JobTitles (\r\n",
                "    JobTitleID INT PRIMARY KEY,\r\n",
                "    Title NVARCHAR(100) NOT NULL\r\n",
                ");\r\n",
                "\r\n",
                "-- Employees Table\r\n",
                "CREATE TABLE Employees (\r\n",
                "    EmployeeID INT PRIMARY KEY,\r\n",
                "    FirstName NVARCHAR(50),\r\n",
                "    LastName NVARCHAR(50),\r\n",
                "    Gender NVARCHAR(10),\r\n",
                "    DateOfBirth DATE,\r\n",
                "    HireDate DATE,\r\n",
                "    DepartmentID INT FOREIGN KEY REFERENCES Departments(DepartmentID)\r\n",
                ");\r\n",
                "\r\n",
                "-- JobAssignments Table\r\n",
                "CREATE TABLE JobAssignments (\r\n",
                "    JobTitleID INT FOREIGN KEY REFERENCES JobTitles(JobTitleID),\r\n",
                "    EmployeeID INT FOREIGN KEY REFERENCES Employees(EmployeeID),\r\n",
                "    FromDate DATE,\r\n",
                "    ToDate DATE,\r\n",
                "    PRIMARY KEY (EmployeeID, JobTitleID)\r\n",
                ");\r\n",
                "\r\n",
                "-- Salaries Table\r\n",
                "CREATE TABLE Salaries (\r\n",
                "    EmployeeID INT PRIMARY KEY FOREIGN KEY REFERENCES Employees(EmployeeID),\r\n",
                "    BasicSalary DECIMAL(10, 2),\r\n",
                "    Allowance DECIMAL(10, 2),\r\n",
                "    Deductions DECIMAL(10, 2)\r\n",
                ");"
            ],
            "metadata": {
                "azdata_cell_guid": "48d85be7-d618-41a3-8312-d808875e1e43",
                "language": "sql"
            },
            "outputs": [
                {
                    "output_type": "error",
                    "ename": "",
                    "evalue": "Msg 2714, Level 16, State 6, Line 2\r\nThere is already an object named 'Departments' in the database.",
                    "traceback": []
                },
                {
                    "output_type": "display_data",
                    "data": {
                        "text/html": "Total execution time: 00:00:00.001"
                    },
                    "metadata": {}
                }
            ],
            "execution_count": 1
        }
    ]
}