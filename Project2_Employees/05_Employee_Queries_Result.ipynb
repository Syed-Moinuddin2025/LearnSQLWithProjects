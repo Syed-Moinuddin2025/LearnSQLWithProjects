{
    "metadata": {
        "kernelspec": {
            "name": "SQL",
            "display_name": "SQL",
            "language": "sql"
        },
        "language_info": {
            "name": "sql",
            "version": ""
        }
    },
    "nbformat_minor": 2,
    "nbformat": 4,
    "cells": [
        {
            "cell_type": "markdown",
            "source": [
                "# 👨‍💼 Employee Records Analysis\n",
                "\n",
                "This notebook contains basic and intermediate SQL queries based on the `EmployeeRecordsDB` database.\n",
                "\n",
                "---"
            ],
            "metadata": {
                "azdata_cell_guid": "9837c2f2-1e27-4231-a041-8701ca3d9e2c"
            }
        },
        {
            "cell_type": "markdown",
            "source": [
                "## 1️⃣ View All Employees"
            ],
            "metadata": {
                "azdata_cell_guid": "d995d63b-19fd-4b0b-962b-9df06e1e06cb"
            }
        },
        {
            "cell_type": "code",
            "source": [
                "SELECT * FROM INFORMATION_SCHEMA.TABLES;"
            ],
            "metadata": {
                "language": "sql",
                "azdata_cell_guid": "f856db3a-364a-4967-9fda-834bc1c24b62"
            },
            "outputs": [
{
    "output_type": "display_data",
    "data": {
        "text/html": "(4 rows affected)"
    },
    "metadata": {}
}, {
    "output_type": "display_data",
    "data": {
        "text/html": "Total execution time: 00:00:00.035"
    },
    "metadata": {}
}, {
    "output_type": "execute_result",
    "metadata": {},
    "execution_count": 3,
    "data": {
        "application/vnd.dataresource+json": {
            "schema": {
                "fields": [
                    {
                        "name": "TABLE_CATALOG"
                    },
                    {
                        "name": "TABLE_SCHEMA"
                    },
                    {
                        "name": "TABLE_NAME"
                    },
                    {
                        "name": "TABLE_TYPE"
                    }
                ]
            },
            "data": [
                {
                    "TABLE_CATALOG": "EmployeesDB",
                    "TABLE_SCHEMA": "dbo",
                    "TABLE_NAME": "Departments",
                    "TABLE_TYPE": "BASE TABLE"
                },
                {
                    "TABLE_CATALOG": "EmployeesDB",
                    "TABLE_SCHEMA": "dbo",
                    "TABLE_NAME": "Employees",
                    "TABLE_TYPE": "BASE TABLE"
                },
                {
                    "TABLE_CATALOG": "EmployeesDB",
                    "TABLE_SCHEMA": "dbo",
                    "TABLE_NAME": "Salaries",
                    "TABLE_TYPE": "BASE TABLE"
                },
                {
                    "TABLE_CATALOG": "EmployeesDB",
                    "TABLE_SCHEMA": "dbo",
                    "TABLE_NAME": "JobTitles",
                    "TABLE_TYPE": "BASE TABLE"
                }
            ]
        },
        "text/html": [
            "<table>",
            "<tr><th>TABLE_CATALOG</th><th>TABLE_SCHEMA</th><th>TABLE_NAME</th><th>TABLE_TYPE</th></tr>",
            "<tr><td>EmployeesDB</td><td>dbo</td><td>Departments</td><td>BASE TABLE</td></tr>",
            "<tr><td>EmployeesDB</td><td>dbo</td><td>Employees</td><td>BASE TABLE</td></tr>",
            "<tr><td>EmployeesDB</td><td>dbo</td><td>Salaries</td><td>BASE TABLE</td></tr>",
            "<tr><td>EmployeesDB</td><td>dbo</td><td>JobTitles</td><td>BASE TABLE</td></tr>",
            "</table>"
        ]
    }
}
],
            "execution_count": 3
        },
        {
            "cell_type": "code",
            "source": [
                "SELECT * FROM Employees;"
            ],
            "metadata": {
                "azdata_cell_guid": "b26a47ab-a0a7-4fe8-afc9-3e457ec88c02",
                "language": "sql"
            },
            "outputs": [
                {
                    "output_type": "display_data",
                    "data": {
                        "text/html": "(15 rows affected)"
                    },
                    "metadata": {}
                },
                {
                    "output_type": "display_data",
                    "data": {
                        "text/html": "Total execution time: 00:00:00.015"
                    },
                    "metadata": {}
                },
                {
                    "output_type": "execute_result",
                    "execution_count": 1,
                    "data": {
                        "application/vnd.dataresource+json": {
                            "schema": {
                                "fields": [
                                    {
                                        "name": "EmployeeID"
                                    },
                                    {
                                        "name": "FirstName"
                                    },
                                    {
                                        "name": "LastName"
                                    },
                                    {
                                        "name": "Gender"
                                    },
                                    {
                                        "name": "DateOfBirth"
                                    },
                                    {
                                        "name": "HireDate"
                                    },
                                    {
                                        "name": "DepartmentID"
                                    }
                                ]
                            },
                            "data": [
                                {
                                    "EmployeeID": "101",
                                    "FirstName": "Ali",
                                    "LastName": "Khan",
                                    "Gender": "M",
                                    "DateOfBirth": "1990-03-15",
                                    "HireDate": "2015-06-01",
                                    "DepartmentID": "3"
                                },
                                {
                                    "EmployeeID": "102",
                                    "FirstName": "Sara",
                                    "LastName": "Ahmed",
                                    "Gender": "F",
                                    "DateOfBirth": "1988-07-20",
                                    "HireDate": "2016-03-10",
                                    "DepartmentID": "1"
                                },
                                {
                                    "EmployeeID": "103",
                                    "FirstName": "Omar",
                                    "LastName": "Zaid",
                                    "Gender": "M",
                                    "DateOfBirth": "1992-11-05",
                                    "HireDate": "2018-01-25",
                                    "DepartmentID": "5"
                                },
                                {
                                    "EmployeeID": "104",
                                    "FirstName": "Nadia",
                                    "LastName": "Rashid",
                                    "Gender": "F",
                                    "DateOfBirth": "1995-04-10",
                                    "HireDate": "2019-08-15",
                                    "DepartmentID": "2"
                                },
                                {
                                    "EmployeeID": "105",
                                    "FirstName": "Imran",
                                    "LastName": "Qureshi",
                                    "Gender": "M",
                                    "DateOfBirth": "1985-01-30",
                                    "HireDate": "2010-09-01",
                                    "DepartmentID": "3"
                                },
                                {
                                    "EmployeeID": "106",
                                    "FirstName": "Fatima",
                                    "LastName": "Syed",
                                    "Gender": "F",
                                    "DateOfBirth": "1991-10-12",
                                    "HireDate": "2017-05-20",
                                    "DepartmentID": "4"
                                },
                                {
                                    "EmployeeID": "107",
                                    "FirstName": "Adeel",
                                    "LastName": "Shaikh",
                                    "Gender": "M",
                                    "DateOfBirth": "1987-09-09",
                                    "HireDate": "2012-11-01",
                                    "DepartmentID": "2"
                                },
                                {
                                    "EmployeeID": "108",
                                    "FirstName": "Mehwish",
                                    "LastName": "Ali",
                                    "Gender": "F",
                                    "DateOfBirth": "1993-02-18",
                                    "HireDate": "2020-02-10",
                                    "DepartmentID": "1"
                                },
                                {
                                    "EmployeeID": "109",
                                    "FirstName": "Bilal",
                                    "LastName": "Ansari",
                                    "Gender": "M",
                                    "DateOfBirth": "1994-12-01",
                                    "HireDate": "2021-03-15",
                                    "DepartmentID": "5"
                                },
                                {
                                    "EmployeeID": "110",
                                    "FirstName": "Hira",
                                    "LastName": "Zaman",
                                    "Gender": "F",
                                    "DateOfBirth": "1996-06-07",
                                    "HireDate": "2022-06-01",
                                    "DepartmentID": "4"
                                },
                                {
                                    "EmployeeID": "111",
                                    "FirstName": "Yasir",
                                    "LastName": "Iqbal",
                                    "Gender": "M",
                                    "DateOfBirth": "1990-05-21",
                                    "HireDate": "2016-07-15",
                                    "DepartmentID": "1"
                                },
                                {
                                    "EmployeeID": "112",
                                    "FirstName": "Zainab",
                                    "LastName": "Mir",
                                    "Gender": "F",
                                    "DateOfBirth": "1989-08-13",
                                    "HireDate": "2014-01-01",
                                    "DepartmentID": "3"
                                },
                                {
                                    "EmployeeID": "113",
                                    "FirstName": "Tariq",
                                    "LastName": "Naeem",
                                    "Gender": "M",
                                    "DateOfBirth": "1986-03-22",
                                    "HireDate": "2009-10-25",
                                    "DepartmentID": "5"
                                },
                                {
                                    "EmployeeID": "114",
                                    "FirstName": "Amna",
                                    "LastName": "Farooq",
                                    "Gender": "F",
                                    "DateOfBirth": "1997-09-15",
                                    "HireDate": "2023-01-10",
                                    "DepartmentID": "2"
                                },
                                {
                                    "EmployeeID": "115",
                                    "FirstName": "Waleed",
                                    "LastName": "Jafri",
                                    "Gender": "M",
                                    "DateOfBirth": "1991-12-25",
                                    "HireDate": "2018-05-05",
                                    "DepartmentID": "4"
                                }
                            ]
                        },
                        "text/html": "<table><tr><th>EmployeeID</th><th>FirstName</th><th>LastName</th><th>Gender</th><th>DateOfBirth</th><th>HireDate</th><th>DepartmentID</th></tr><tr><td>101</td><td>Ali</td><td>Khan</td><td>M</td><td>1990-03-15</td><td>2015-06-01</td><td>3</td></tr><tr><td>102</td><td>Sara</td><td>Ahmed</td><td>F</td><td>1988-07-20</td><td>2016-03-10</td><td>1</td></tr><tr><td>103</td><td>Omar</td><td>Zaid</td><td>M</td><td>1992-11-05</td><td>2018-01-25</td><td>5</td></tr><tr><td>104</td><td>Nadia</td><td>Rashid</td><td>F</td><td>1995-04-10</td><td>2019-08-15</td><td>2</td></tr><tr><td>105</td><td>Imran</td><td>Qureshi</td><td>M</td><td>1985-01-30</td><td>2010-09-01</td><td>3</td></tr><tr><td>106</td><td>Fatima</td><td>Syed</td><td>F</td><td>1991-10-12</td><td>2017-05-20</td><td>4</td></tr><tr><td>107</td><td>Adeel</td><td>Shaikh</td><td>M</td><td>1987-09-09</td><td>2012-11-01</td><td>2</td></tr><tr><td>108</td><td>Mehwish</td><td>Ali</td><td>F</td><td>1993-02-18</td><td>2020-02-10</td><td>1</td></tr><tr><td>109</td><td>Bilal</td><td>Ansari</td><td>M</td><td>1994-12-01</td><td>2021-03-15</td><td>5</td></tr><tr><td>110</td><td>Hira</td><td>Zaman</td><td>F</td><td>1996-06-07</td><td>2022-06-01</td><td>4</td></tr><tr><td>111</td><td>Yasir</td><td>Iqbal</td><td>M</td><td>1990-05-21</td><td>2016-07-15</td><td>1</td></tr><tr><td>112</td><td>Zainab</td><td>Mir</td><td>F</td><td>1989-08-13</td><td>2014-01-01</td><td>3</td></tr><tr><td>113</td><td>Tariq</td><td>Naeem</td><td>M</td><td>1986-03-22</td><td>2009-10-25</td><td>5</td></tr><tr><td>114</td><td>Amna</td><td>Farooq</td><td>F</td><td>1997-09-15</td><td>2023-01-10</td><td>2</td></tr><tr><td>115</td><td>Waleed</td><td>Jafri</td><td>M</td><td>1991-12-25</td><td>2018-05-05</td><td>4</td></tr></table>"
                    },
                    "metadata": {}
                }
            ],
            "execution_count": 1
        },
        {
            "cell_type": "markdown",
            "source": [
                "## 2️⃣ View All Departments"
            ],
            "metadata": {
                "azdata_cell_guid": "94e35e62-bd2c-46d6-adb4-4b52ccab1fd8"
            }
        },
        {
            "cell_type": "code",
            "source": [
                "SELECT * FROM Departments;"
            ],
            "metadata": {
                "azdata_cell_guid": "b5e713fc-3443-4882-9f93-a70ce2b278b1",
                "language": "sql"
            },
            "outputs": [
                {
                    "output_type": "display_data",
                    "data": {
                        "text/html": "(5 rows affected)"
                    },
                    "metadata": {}
                },
                {
                    "output_type": "display_data",
                    "data": {
                        "text/html": "Total execution time: 00:00:00.011"
                    },
                    "metadata": {}
                },
                {
                    "output_type": "execute_result",
                    "execution_count": 2,
                    "data": {
                        "application/vnd.dataresource+json": {
                            "schema": {
                                "fields": [
                                    {
                                        "name": "DepartmentID"
                                    },
                                    {
                                        "name": "DepartmentName"
                                    }
                                ]
                            },
                            "data": [
                                {
                                    "DepartmentID": "1",
                                    "DepartmentName": "Human Resources"
                                },
                                {
                                    "DepartmentID": "2",
                                    "DepartmentName": "Finance"
                                },
                                {
                                    "DepartmentID": "3",
                                    "DepartmentName": "IT"
                                },
                                {
                                    "DepartmentID": "4",
                                    "DepartmentName": "Marketing"
                                },
                                {
                                    "DepartmentID": "5",
                                    "DepartmentName": "Sales"
                                }
                            ]
                        },
                        "text/html": "<table><tr><th>DepartmentID</th><th>DepartmentName</th></tr><tr><td>1</td><td>Human Resources</td></tr><tr><td>2</td><td>Finance</td></tr><tr><td>3</td><td>IT</td></tr><tr><td>4</td><td>Marketing</td></tr><tr><td>5</td><td>Sales</td></tr></table>"
                    },
                    "metadata": {}
                }
            ],
            "execution_count": 2
        },
        {
            "cell_type": "markdown",
            "source": [
                "## 3️⃣ View All Designations"
            ],
            "metadata": {
                "azdata_cell_guid": "db3bb17d-beee-4378-8184-554d38d0527a"
            }
        },
        {
            "cell_type": "code",
            "source": [
                "SELECT * FROM Designations;"
            ],
            "metadata": {
                "azdata_cell_guid": "6842e6a4-f8ac-40de-8c70-9dd8f7528b8d",
                "language": "sql"
            },
            "outputs": [
                {
                    "output_type": "error",
                    "evalue": "Msg 208, Level 16, State 1, Line 1\r\nInvalid object name 'Designations'.",
                    "ename": "",
                    "traceback": []
                },
                {
                    "output_type": "display_data",
                    "data": {
                        "text/html": "Total execution time: 00:00:00.001"
                    },
                    "metadata": {}
                }
            ],
            "execution_count": 1
        },
        {
            "cell_type": "markdown",
            "source": [
                "## 4️⃣ View All Salaries"
            ],
            "metadata": {
                "azdata_cell_guid": "7150f329-3e01-4c3c-956d-13ec45b83026"
            }
        },
        {
            "cell_type": "code",
            "source": [
                "SELECT * FROM Salaries;"
            ],
            "metadata": {
                "azdata_cell_guid": "7ee3fbb7-d7f3-45e1-af01-98a8feced72f",
                "language": "sql"
            },
            "outputs": [
                {
                    "output_type": "display_data",
                    "data": {
                        "text/html": "(15 rows affected)"
                    },
                    "metadata": {}
                },
                {
                    "output_type": "display_data",
                    "data": {
                        "text/html": "Total execution time: 00:00:00.024"
                    },
                    "metadata": {}
                },
                {
                    "output_type": "execute_result",
                    "execution_count": 5,
                    "data": {
                        "application/vnd.dataresource+json": {
                            "schema": {
                                "fields": [
                                    {
                                        "name": "SalaryID"
                                    },
                                    {
                                        "name": "EmployeeID"
                                    },
                                    {
                                        "name": "BasicSalary"
                                    },
                                    {
                                        "name": "Bonus"
                                    },
                                    {
                                        "name": "EffectiveFrom"
                                    }
                                ]
                            },
                            "data": [
                                {
                                    "SalaryID": "1",
                                    "EmployeeID": "101",
                                    "BasicSalary": "70000.00",
                                    "Bonus": "5000.00",
                                    "EffectiveFrom": "2023-01-01"
                                },
                                {
                                    "SalaryID": "2",
                                    "EmployeeID": "102",
                                    "BasicSalary": "65000.00",
                                    "Bonus": "4500.00",
                                    "EffectiveFrom": "2023-01-01"
                                },
                                {
                                    "SalaryID": "3",
                                    "EmployeeID": "103",
                                    "BasicSalary": "55000.00",
                                    "Bonus": "3000.00",
                                    "EffectiveFrom": "2023-01-01"
                                },
                                {
                                    "SalaryID": "4",
                                    "EmployeeID": "104",
                                    "BasicSalary": "60000.00",
                                    "Bonus": "3500.00",
                                    "EffectiveFrom": "2023-01-01"
                                },
                                {
                                    "SalaryID": "5",
                                    "EmployeeID": "105",
                                    "BasicSalary": "80000.00",
                                    "Bonus": "6000.00",
                                    "EffectiveFrom": "2023-01-01"
                                },
                                {
                                    "SalaryID": "6",
                                    "EmployeeID": "106",
                                    "BasicSalary": "62000.00",
                                    "Bonus": "4000.00",
                                    "EffectiveFrom": "2023-01-01"
                                },
                                {
                                    "SalaryID": "7",
                                    "EmployeeID": "107",
                                    "BasicSalary": "75000.00",
                                    "Bonus": "5500.00",
                                    "EffectiveFrom": "2023-01-01"
                                },
                                {
                                    "SalaryID": "8",
                                    "EmployeeID": "108",
                                    "BasicSalary": "58000.00",
                                    "Bonus": "3200.00",
                                    "EffectiveFrom": "2023-01-01"
                                },
                                {
                                    "SalaryID": "9",
                                    "EmployeeID": "109",
                                    "BasicSalary": "50000.00",
                                    "Bonus": "2000.00",
                                    "EffectiveFrom": "2023-01-01"
                                },
                                {
                                    "SalaryID": "10",
                                    "EmployeeID": "110",
                                    "BasicSalary": "52000.00",
                                    "Bonus": "2200.00",
                                    "EffectiveFrom": "2023-01-01"
                                },
                                {
                                    "SalaryID": "11",
                                    "EmployeeID": "111",
                                    "BasicSalary": "67000.00",
                                    "Bonus": "4700.00",
                                    "EffectiveFrom": "2023-01-01"
                                },
                                {
                                    "SalaryID": "12",
                                    "EmployeeID": "112",
                                    "BasicSalary": "72000.00",
                                    "Bonus": "5100.00",
                                    "EffectiveFrom": "2023-01-01"
                                },
                                {
                                    "SalaryID": "13",
                                    "EmployeeID": "113",
                                    "BasicSalary": "83000.00",
                                    "Bonus": "6500.00",
                                    "EffectiveFrom": "2023-01-01"
                                },
                                {
                                    "SalaryID": "14",
                                    "EmployeeID": "114",
                                    "BasicSalary": "49000.00",
                                    "Bonus": "1800.00",
                                    "EffectiveFrom": "2023-01-01"
                                },
                                {
                                    "SalaryID": "15",
                                    "EmployeeID": "115",
                                    "BasicSalary": "61000.00",
                                    "Bonus": "3600.00",
                                    "EffectiveFrom": "2023-01-01"
                                }
                            ]
                        },
                        "text/html": "<table><tr><th>SalaryID</th><th>EmployeeID</th><th>BasicSalary</th><th>Bonus</th><th>EffectiveFrom</th></tr><tr><td>1</td><td>101</td><td>70000.00</td><td>5000.00</td><td>2023-01-01</td></tr><tr><td>2</td><td>102</td><td>65000.00</td><td>4500.00</td><td>2023-01-01</td></tr><tr><td>3</td><td>103</td><td>55000.00</td><td>3000.00</td><td>2023-01-01</td></tr><tr><td>4</td><td>104</td><td>60000.00</td><td>3500.00</td><td>2023-01-01</td></tr><tr><td>5</td><td>105</td><td>80000.00</td><td>6000.00</td><td>2023-01-01</td></tr><tr><td>6</td><td>106</td><td>62000.00</td><td>4000.00</td><td>2023-01-01</td></tr><tr><td>7</td><td>107</td><td>75000.00</td><td>5500.00</td><td>2023-01-01</td></tr><tr><td>8</td><td>108</td><td>58000.00</td><td>3200.00</td><td>2023-01-01</td></tr><tr><td>9</td><td>109</td><td>50000.00</td><td>2000.00</td><td>2023-01-01</td></tr><tr><td>10</td><td>110</td><td>52000.00</td><td>2200.00</td><td>2023-01-01</td></tr><tr><td>11</td><td>111</td><td>67000.00</td><td>4700.00</td><td>2023-01-01</td></tr><tr><td>12</td><td>112</td><td>72000.00</td><td>5100.00</td><td>2023-01-01</td></tr><tr><td>13</td><td>113</td><td>83000.00</td><td>6500.00</td><td>2023-01-01</td></tr><tr><td>14</td><td>114</td><td>49000.00</td><td>1800.00</td><td>2023-01-01</td></tr><tr><td>15</td><td>115</td><td>61000.00</td><td>3600.00</td><td>2023-01-01</td></tr></table>"
                    },
                    "metadata": {}
                }
            ],
            "execution_count": 5
        },
        {
            "cell_type": "markdown",
            "source": [
                "## 5️⃣ List Employee Names with Their Department Names (JOIN)"
            ],
            "metadata": {
                "azdata_cell_guid": "a1d60c7b-2112-4c2a-af26-baeb81326f99"
            }
        },
        {
            "cell_type": "code",
            "source": [
                "SELECT \n",
                "    E.EmployeeID, E.FirstName, E.LastName, D.DepartmentName\n",
                "FROM Employees E\n",
                "JOIN Departments D ON E.DepartmentID = D.DepartmentID;"
            ],
            "metadata": {
                "azdata_cell_guid": "375009b7-5d62-447f-b9f4-156b4fd35d9e",
                "language": "sql"
            },
            "outputs": [
                {
                    "output_type": "display_data",
                    "data": {
                        "text/html": "(15 rows affected)"
                    },
                    "metadata": {}
                },
                {
                    "output_type": "display_data",
                    "data": {
                        "text/html": "Total execution time: 00:00:00.043"
                    },
                    "metadata": {}
                },
                {
                    "output_type": "execute_result",
                    "metadata": {},
                    "execution_count": 2,
                    "data": {
                        "application/vnd.dataresource+json": {
                            "schema": {
                                "fields": [
                                    {
                                        "name": "EmployeeID"
                                    },
                                    {
                                        "name": "FirstName"
                                    },
                                    {
                                        "name": "LastName"
                                    },
                                    {
                                        "name": "DepartmentName"
                                    }
                                ]
                            },
                            "data": [
                                {
                                    "EmployeeID": "101",
                                    "FirstName": "Ali",
                                    "LastName": "Khan",
                                    "DepartmentName": "IT"
                                },
                                {
                                    "EmployeeID": "102",
                                    "FirstName": "Sara",
                                    "LastName": "Ahmed",
                                    "DepartmentName": "Human Resources"
                                },
                                {
                                    "EmployeeID": "103",
                                    "FirstName": "Omar",
                                    "LastName": "Zaid",
                                    "DepartmentName": "Sales"
                                },
                                {
                                    "EmployeeID": "104",
                                    "FirstName": "Nadia",
                                    "LastName": "Rashid",
                                    "DepartmentName": "Finance"
                                },
                                {
                                    "EmployeeID": "105",
                                    "FirstName": "Imran",
                                    "LastName": "Qureshi",
                                    "DepartmentName": "IT"
                                },
                                {
                                    "EmployeeID": "106",
                                    "FirstName": "Fatima",
                                    "LastName": "Syed",
                                    "DepartmentName": "Marketing"
                                },
                                {
                                    "EmployeeID": "107",
                                    "FirstName": "Adeel",
                                    "LastName": "Shaikh",
                                    "DepartmentName": "Finance"
                                },
                                {
                                    "EmployeeID": "108",
                                    "FirstName": "Mehwish",
                                    "LastName": "Ali",
                                    "DepartmentName": "Human Resources"
                                },
                                {
                                    "EmployeeID": "109",
                                    "FirstName": "Bilal",
                                    "LastName": "Ansari",
                                    "DepartmentName": "Sales"
                                },
                                {
                                    "EmployeeID": "110",
                                    "FirstName": "Hira",
                                    "LastName": "Zaman",
                                    "DepartmentName": "Marketing"
                                },
                                {
                                    "EmployeeID": "111",
                                    "FirstName": "Yasir",
                                    "LastName": "Iqbal",
                                    "DepartmentName": "Human Resources"
                                },
                                {
                                    "EmployeeID": "112",
                                    "FirstName": "Zainab",
                                    "LastName": "Mir",
                                    "DepartmentName": "IT"
                                },
                                {
                                    "EmployeeID": "113",
                                    "FirstName": "Tariq",
                                    "LastName": "Naeem",
                                    "DepartmentName": "Sales"
                                },
                                {
                                    "EmployeeID": "114",
                                    "FirstName": "Amna",
                                    "LastName": "Farooq",
                                    "DepartmentName": "Finance"
                                },
                                {
                                    "EmployeeID": "115",
                                    "FirstName": "Waleed",
                                    "LastName": "Jafri",
                                    "DepartmentName": "Marketing"
                                }
                            ]
                        },
                        "text/html": [
                            "<table>",
                            "<tr><th>EmployeeID</th><th>FirstName</th><th>LastName</th><th>DepartmentName</th></tr>",
                            "<tr><td>101</td><td>Ali</td><td>Khan</td><td>IT</td></tr>",
                            "<tr><td>102</td><td>Sara</td><td>Ahmed</td><td>Human Resources</td></tr>",
                            "<tr><td>103</td><td>Omar</td><td>Zaid</td><td>Sales</td></tr>",
                            "<tr><td>104</td><td>Nadia</td><td>Rashid</td><td>Finance</td></tr>",
                            "<tr><td>105</td><td>Imran</td><td>Qureshi</td><td>IT</td></tr>",
                            "<tr><td>106</td><td>Fatima</td><td>Syed</td><td>Marketing</td></tr>",
                            "<tr><td>107</td><td>Adeel</td><td>Shaikh</td><td>Finance</td></tr>",
                            "<tr><td>108</td><td>Mehwish</td><td>Ali</td><td>Human Resources</td></tr>",
                            "<tr><td>109</td><td>Bilal</td><td>Ansari</td><td>Sales</td></tr>",
                            "<tr><td>110</td><td>Hira</td><td>Zaman</td><td>Marketing</td></tr>",
                            "<tr><td>111</td><td>Yasir</td><td>Iqbal</td><td>Human Resources</td></tr>",
                            "<tr><td>112</td><td>Zainab</td><td>Mir</td><td>IT</td></tr>",
                            "<tr><td>113</td><td>Tariq</td><td>Naeem</td><td>Sales</td></tr>",
                            "<tr><td>114</td><td>Amna</td><td>Farooq</td><td>Finance</td></tr>",
                            "<tr><td>115</td><td>Waleed</td><td>Jafri</td><td>Marketing</td></tr>",
                            "</table>"
                        ]
                    }
                }
            ],
            "execution_count": 2
        },
        {
            "cell_type": "markdown",
            "source": [
                "## 6️⃣ List Employee Names with Their Designations"
            ],
            "metadata": {
                "azdata_cell_guid": "259a9705-76b4-4d29-9033-cd1b9dbdad46"
            }
        },
        {
            "cell_type": "code",
            "source": [
                "SELECT \n",
                "    E.EmployeeID, E.FirstName, E.LastName, DS.DesignationTitle\n",
                "FROM Employees E\n",
                "JOIN Designations DS ON E.DesignationID = DS.DesignationID;"
            ],
            "metadata": {
                "azdata_cell_guid": "0f181871-0c4d-4a15-ad63-83225df8afea",
                "language": "sql"
            },
            "outputs": [
                {
                    "output_type": "error",
                    "ename": "",
                    "evalue": "Msg 208, Level 16, State 1, Line 1\r\nInvalid object name 'Designations'.",
                    "traceback": []
                },
                {
                    "output_type": "display_data",
                    "data": {
                        "text/html": "Total execution time: 00:00:00.001"
                    },
                    "metadata": {}
                }
            ],
            "execution_count": 6
        },
        {
            "cell_type": "markdown",
            "source": [
                "## 7️⃣ List Employees with Their Salaries"
            ],
            "metadata": {
                "azdata_cell_guid": "adacf265-11d8-4282-b57e-1a9c2f6cf08e"
            }
        },
        {
            "cell_type": "code",
            "source": [
                "SELECT \n",
                "    E.FirstName + ' ' + E.LastName AS FullName,\n",
                "    S.BasicSalary, S.Allowance, S.Deductions, \n",
                "    (S.BasicSalary + S.Allowance - S.Deductions) AS NetPay\n",
                "FROM Employees E\n",
                "JOIN Salaries S ON E.EmployeeID = S.EmployeeID;"
            ],
            "metadata": {
                "azdata_cell_guid": "7dd7cac2-c396-492b-992e-b486bfdb6688",
                "language": "sql"
            },
            "outputs": [
                {
                    "output_type": "error",
                    "ename": "",
                    "evalue": "Msg 207, Level 16, State 1, Line 3\r\nInvalid column name 'Allowance'.",
                    "traceback": []
                },
                {
                    "output_type": "error",
                    "ename": "",
                    "evalue": "Msg 207, Level 16, State 1, Line 3\r\nInvalid column name 'Deductions'.",
                    "traceback": []
                },
                {
                    "output_type": "error",
                    "ename": "",
                    "evalue": "Msg 207, Level 16, State 1, Line 4\r\nInvalid column name 'Allowance'.",
                    "traceback": []
                },
                {
                    "output_type": "error",
                    "ename": "",
                    "evalue": "Msg 207, Level 16, State 1, Line 4\r\nInvalid column name 'Deductions'.",
                    "traceback": []
                },
                {
                    "output_type": "display_data",
                    "data": {
                        "text/html": "Total execution time: 00:00:00.001"
                    },
                    "metadata": {}
                }
            ],
            "execution_count": 7
        },
        {
            "cell_type": "markdown",
            "source": [
                "## 8️⃣ Employees with Salary Above 50000"
            ],
            "metadata": {
                "azdata_cell_guid": "cd17c40e-8b09-4689-afae-1343238bdc39"
            }
        },
        {
            "cell_type": "code",
            "source": [
                "SELECT \n",
                "    E.FirstName, E.LastName, S.BasicSalary\n",
                "FROM Employees E\n",
                "JOIN Salaries S ON E.EmployeeID = S.EmployeeID\n",
                "WHERE S.BasicSalary > 50000;"
            ],
            "metadata": {
                "azdata_cell_guid": "58ccf2e8-f470-4ec6-9c85-9e6edc99d525",
                "language": "sql"
            },
            "outputs": [],
            "execution_count": null
        },
        {
            "cell_type": "markdown",
            "source": [
                "## 9️⃣ Count of Employees in Each Department"
            ],
            "metadata": {
                "azdata_cell_guid": "3573d555-e586-49b6-ab8a-ad0a088b78fd"
            }
        },
        {
            "cell_type": "code",
            "source": [
                "SELECT \n",
                "    D.DepartmentName, COUNT(*) AS EmployeeCount\n",
                "FROM Employees E\n",
                "JOIN Departments D ON E.DepartmentID = D.DepartmentID\n",
                "GROUP BY D.DepartmentName;"
            ],
            "metadata": {
                "azdata_cell_guid": "edab8b4d-1faa-487e-ab47-ab31983c9626",
                "language": "sql"
            },
            "outputs": [],
            "execution_count": null
        },
        {
            "cell_type": "markdown",
            "source": [
                "## 🔟 Average Salary by Designation"
            ],
            "metadata": {
                "azdata_cell_guid": "13252581-5f3a-43b2-97e9-c7e375f6b329"
            }
        },
        {
            "cell_type": "code",
            "source": [
                "SELECT \n",
                "    D.DesignationTitle, AVG(S.BasicSalary) AS AverageSalary\n",
                "FROM Employees E\n",
                "JOIN Salaries S ON E.EmployeeID = S.EmployeeID\n",
                "JOIN Designations D ON E.DesignationID = D.DesignationID\n",
                "GROUP BY D.DesignationTitle;"
            ],
            "metadata": {
                "azdata_cell_guid": "e97595c2-f5dc-4968-8886-453cb07590a3",
                "language": "sql"
            },
            "outputs": [],
            "execution_count": null
        },
        {
            "cell_type": "markdown",
            "source": [
                "## 1️⃣1️⃣ Highest Earning Employee"
            ],
            "metadata": {
                "azdata_cell_guid": "0630b45f-ce24-4e64-9072-c0160cfe30d2"
            }
        },
        {
            "cell_type": "code",
            "source": [
                "SELECT TOP 1\n",
                "    E.FirstName, E.LastName,\n",
                "    (S.BasicSalary + S.Allowance - S.Deductions) AS NetPay\n",
                "FROM Employees E\n",
                "JOIN Salaries S ON E.EmployeeID = S.EmployeeID\n",
                "ORDER BY NetPay DESC;"
            ],
            "metadata": {
                "azdata_cell_guid": "f1255474-7869-4e93-bf6e-150ca4e64f18",
                "language": "sql"
            },
            "outputs": [],
            "execution_count": null
        },
        {
            "cell_type": "markdown",
            "source": [
                "## 1️⃣2️⃣ Employees Without Any Allowance"
            ],
            "metadata": {
                "azdata_cell_guid": "8dc7cd71-9da5-41f0-a891-fa535b31a47e"
            }
        },
        {
            "cell_type": "code",
            "source": [
                "SELECT \n",
                "    E.FirstName, E.LastName\n",
                "FROM Employees E\n",
                "JOIN Salaries S ON E.EmployeeID = S.EmployeeID\n",
                "WHERE S.Allowance = 0;"
            ],
            "metadata": {
                "azdata_cell_guid": "be3d7613-1eb0-4825-bf87-d040e35d8c0f",
                "language": "sql"
            },
            "outputs": [],
            "execution_count": null
        },
        {
            "cell_type": "markdown",
            "source": [
                "## 1️⃣3️⃣ Employees with Deductions > 1000"
            ],
            "metadata": {
                "azdata_cell_guid": "22c35b1d-d767-49eb-ae62-8466dde7de9a"
            }
        },
        {
            "cell_type": "code",
            "source": [
                "SELECT \n",
                "    E.FirstName, E.LastName, S.Deductions\n",
                "FROM Employees E\n",
                "JOIN Salaries S ON E.EmployeeID = S.EmployeeID\n",
                "WHERE S.Deductions > 1000;"
            ],
            "metadata": {
                "azdata_cell_guid": "11e83300-37ee-4a21-97e1-bc30068ca49f",
                "language": "sql"
            },
            "outputs": [],
            "execution_count": null
        },
        {
            "cell_type": "markdown",
            "source": [
                "## 1️⃣4️⃣ Net Salary of Each Employee"
            ],
            "metadata": {
                "azdata_cell_guid": "882db6ed-38c2-4279-b43b-d1f1ee2603bd"
            }
        },
        {
            "cell_type": "code",
            "source": [
                "SELECT \n",
                "    E.EmployeeID,\n",
                "    E.FirstName + ' ' + E.LastName AS FullName,\n",
                "    (S.BasicSalary + S.Allowance - S.Deductions) AS NetSalary\n",
                "FROM Employees E\n",
                "JOIN Salaries S ON E.EmployeeID = S.EmployeeID;"
            ],
            "metadata": {
                "azdata_cell_guid": "2f8918b6-85bc-40d7-8dbd-3625f977ecc5",
                "language": "sql"
            },
            "outputs": [],
            "execution_count": null
        },
        {
            "cell_type": "markdown",
            "source": [
                "## 1️⃣5️⃣ Employees Ordered by Net Salary Descending"
            ],
            "metadata": {
                "azdata_cell_guid": "383ae25d-b8fa-43b5-81de-c60fe1d46955"
            }
        },
        {
            "cell_type": "code",
            "source": [
                "SELECT \n",
                "    E.EmployeeID,\n",
                "    E.FirstName + ' ' + E.LastName AS FullName,\n",
                "    (S.BasicSalary + S.Allowance - S.Deductions) AS NetSalary\n",
                "FROM Employees E\n",
                "JOIN Salaries S ON E.EmployeeID = S.EmployeeID\n",
                "ORDER BY NetSalary DESC;"
            ],
            "metadata": {
                "azdata_cell_guid": "545eb744-08aa-4e61-8048-8cb817cc47f9",
                "language": "sql"
            },
            "outputs": [],
            "execution_count": null
        },
        {
            "cell_type": "markdown",
            "source": [
                "## 1️⃣6️⃣ Employees with Designation and Department"
            ],
            "metadata": {
                "azdata_cell_guid": "2f782756-883c-4765-a13e-9602dbfa6a32"
            }
        },
        {
            "cell_type": "code",
            "source": [
                "SELECT \n",
                "    E.FirstName + ' ' + E.LastName AS FullName,\n",
                "    D.DepartmentName,\n",
                "    DS.DesignationTitle\n",
                "FROM Employees E\n",
                "JOIN Departments D ON E.DepartmentID = D.DepartmentID\n",
                "JOIN Designations DS ON E.DesignationID = DS.DesignationID;"
            ],
            "metadata": {
                "azdata_cell_guid": "23bb8413-5836-4ac7-a60d-d84c44968506",
                "language": "sql"
            },
            "outputs": [],
            "execution_count": null
        }
    ]
}